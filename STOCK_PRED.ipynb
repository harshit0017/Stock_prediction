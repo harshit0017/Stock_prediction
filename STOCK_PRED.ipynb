{
  "cells": [
    {
      "cell_type": "markdown",
      "metadata": {
        "id": "8nzFTqnch5mV"
      },
      "source": [
        "### Stock Market Prediction And Forecasting Using Stacked LSTM"
      ]
    },
    {
      "cell_type": "code",
      "execution_count": 1,
      "metadata": {
        "id": "SiQgqUd-h5mW"
      },
      "outputs": [],
      "source": [
        "### Keras and Tensorflow >2.0"
      ]
    },
    {
      "cell_type": "code",
      "execution_count": 2,
      "metadata": {
        "id": "jSymgxS-h5mX"
      },
      "outputs": [],
      "source": [
        "### Data Collection\n",
        "import pandas_datareader as pdr\n",
        "key=\"\""
      ]
    },
    {
      "cell_type": "code",
      "execution_count": 3,
      "metadata": {
        "colab": {
          "base_uri": "https://localhost:8080/"
        },
        "id": "_sYO_3yoh5mY",
        "outputId": "3b4284c5-440c-4b8b-98bc-2f68aa377b58"
      },
      "outputs": [
        {
          "output_type": "stream",
          "name": "stderr",
          "text": [
            "<ipython-input-3-7e177e74b516>:1: FutureWarning: In a future version of pandas all arguments of concat except for the argument 'objs' will be keyword-only.\n",
            "  df = pdr.get_data_tiingo('MSFT', api_key=key)\n"
          ]
        }
      ],
      "source": [
        "df = pdr.get_data_tiingo('MSFT', api_key=key)"
      ]
    },
    {
      "cell_type": "code",
      "execution_count": 4,
      "metadata": {
        "id": "WuwKKZIPh5mY"
      },
      "outputs": [],
      "source": [
        "df.to_csv('MSFT.csv')"
      ]
    },
    {
      "cell_type": "code",
      "execution_count": 5,
      "metadata": {
        "id": "24cNwPTRh5mY"
      },
      "outputs": [],
      "source": [
        "import pandas as pd"
      ]
    },
    {
      "cell_type": "code",
      "execution_count": 6,
      "metadata": {
        "id": "NWm18DrGh5mY"
      },
      "outputs": [],
      "source": [
        "df=pd.read_csv('MSFT.csv')"
      ]
    },
    {
      "cell_type": "code",
      "source": [
        "df.shape\n"
      ],
      "metadata": {
        "colab": {
          "base_uri": "https://localhost:8080/"
        },
        "id": "nTRvy0usedUg",
        "outputId": "21f0387a-3e18-4565-97e2-fa4612f4d2ea"
      },
      "execution_count": 7,
      "outputs": [
        {
          "output_type": "execute_result",
          "data": {
            "text/plain": [
              "(1256, 14)"
            ]
          },
          "metadata": {},
          "execution_count": 7
        }
      ]
    },
    {
      "cell_type": "code",
      "execution_count": 8,
      "metadata": {
        "colab": {
          "base_uri": "https://localhost:8080/",
          "height": 206
        },
        "id": "H1vB-oDHh5mY",
        "outputId": "3c3dd47f-dc90-42d5-8c19-d7c77d4738d5"
      },
      "outputs": [
        {
          "output_type": "execute_result",
          "data": {
            "text/plain": [
              "  symbol                       date   close    high     low    open    volume  \\\n",
              "0   MSFT  2018-08-22 00:00:00+00:00  107.06  107.34  105.78  105.85  18000639   \n",
              "1   MSFT  2018-08-23 00:00:00+00:00  107.56  108.18  106.87  107.15  18167723   \n",
              "2   MSFT  2018-08-24 00:00:00+00:00  108.40  108.56  107.56  107.67  17234020   \n",
              "3   MSFT  2018-08-27 00:00:00+00:00  109.60  109.64  108.51  109.27  19662331   \n",
              "4   MSFT  2018-08-28 00:00:00+00:00  110.26  110.50  109.79  109.94  19151528   \n",
              "\n",
              "     adjClose     adjHigh      adjLow     adjOpen  adjVolume  divCash  \\\n",
              "0  101.405791  101.671004  100.193393  100.259696   18000639      0.0   \n",
              "1  101.879385  102.466640  101.225826  101.491038   18167723      0.0   \n",
              "2  102.675021  102.826571  101.879385  101.983575   17234020      0.0   \n",
              "3  103.811645  103.849533  102.779212  103.499074   19662331      0.0   \n",
              "4  104.436788  104.664113  103.991611  104.133689   19151528      0.0   \n",
              "\n",
              "   splitFactor  \n",
              "0          1.0  \n",
              "1          1.0  \n",
              "2          1.0  \n",
              "3          1.0  \n",
              "4          1.0  "
            ],
            "text/html": [
              "\n",
              "  <div id=\"df-476c5f4e-ee33-4579-8338-88c603c2cbfa\" class=\"colab-df-container\">\n",
              "    <div>\n",
              "<style scoped>\n",
              "    .dataframe tbody tr th:only-of-type {\n",
              "        vertical-align: middle;\n",
              "    }\n",
              "\n",
              "    .dataframe tbody tr th {\n",
              "        vertical-align: top;\n",
              "    }\n",
              "\n",
              "    .dataframe thead th {\n",
              "        text-align: right;\n",
              "    }\n",
              "</style>\n",
              "<table border=\"1\" class=\"dataframe\">\n",
              "  <thead>\n",
              "    <tr style=\"text-align: right;\">\n",
              "      <th></th>\n",
              "      <th>symbol</th>\n",
              "      <th>date</th>\n",
              "      <th>close</th>\n",
              "      <th>high</th>\n",
              "      <th>low</th>\n",
              "      <th>open</th>\n",
              "      <th>volume</th>\n",
              "      <th>adjClose</th>\n",
              "      <th>adjHigh</th>\n",
              "      <th>adjLow</th>\n",
              "      <th>adjOpen</th>\n",
              "      <th>adjVolume</th>\n",
              "      <th>divCash</th>\n",
              "      <th>splitFactor</th>\n",
              "    </tr>\n",
              "  </thead>\n",
              "  <tbody>\n",
              "    <tr>\n",
              "      <th>0</th>\n",
              "      <td>MSFT</td>\n",
              "      <td>2018-08-22 00:00:00+00:00</td>\n",
              "      <td>107.06</td>\n",
              "      <td>107.34</td>\n",
              "      <td>105.78</td>\n",
              "      <td>105.85</td>\n",
              "      <td>18000639</td>\n",
              "      <td>101.405791</td>\n",
              "      <td>101.671004</td>\n",
              "      <td>100.193393</td>\n",
              "      <td>100.259696</td>\n",
              "      <td>18000639</td>\n",
              "      <td>0.0</td>\n",
              "      <td>1.0</td>\n",
              "    </tr>\n",
              "    <tr>\n",
              "      <th>1</th>\n",
              "      <td>MSFT</td>\n",
              "      <td>2018-08-23 00:00:00+00:00</td>\n",
              "      <td>107.56</td>\n",
              "      <td>108.18</td>\n",
              "      <td>106.87</td>\n",
              "      <td>107.15</td>\n",
              "      <td>18167723</td>\n",
              "      <td>101.879385</td>\n",
              "      <td>102.466640</td>\n",
              "      <td>101.225826</td>\n",
              "      <td>101.491038</td>\n",
              "      <td>18167723</td>\n",
              "      <td>0.0</td>\n",
              "      <td>1.0</td>\n",
              "    </tr>\n",
              "    <tr>\n",
              "      <th>2</th>\n",
              "      <td>MSFT</td>\n",
              "      <td>2018-08-24 00:00:00+00:00</td>\n",
              "      <td>108.40</td>\n",
              "      <td>108.56</td>\n",
              "      <td>107.56</td>\n",
              "      <td>107.67</td>\n",
              "      <td>17234020</td>\n",
              "      <td>102.675021</td>\n",
              "      <td>102.826571</td>\n",
              "      <td>101.879385</td>\n",
              "      <td>101.983575</td>\n",
              "      <td>17234020</td>\n",
              "      <td>0.0</td>\n",
              "      <td>1.0</td>\n",
              "    </tr>\n",
              "    <tr>\n",
              "      <th>3</th>\n",
              "      <td>MSFT</td>\n",
              "      <td>2018-08-27 00:00:00+00:00</td>\n",
              "      <td>109.60</td>\n",
              "      <td>109.64</td>\n",
              "      <td>108.51</td>\n",
              "      <td>109.27</td>\n",
              "      <td>19662331</td>\n",
              "      <td>103.811645</td>\n",
              "      <td>103.849533</td>\n",
              "      <td>102.779212</td>\n",
              "      <td>103.499074</td>\n",
              "      <td>19662331</td>\n",
              "      <td>0.0</td>\n",
              "      <td>1.0</td>\n",
              "    </tr>\n",
              "    <tr>\n",
              "      <th>4</th>\n",
              "      <td>MSFT</td>\n",
              "      <td>2018-08-28 00:00:00+00:00</td>\n",
              "      <td>110.26</td>\n",
              "      <td>110.50</td>\n",
              "      <td>109.79</td>\n",
              "      <td>109.94</td>\n",
              "      <td>19151528</td>\n",
              "      <td>104.436788</td>\n",
              "      <td>104.664113</td>\n",
              "      <td>103.991611</td>\n",
              "      <td>104.133689</td>\n",
              "      <td>19151528</td>\n",
              "      <td>0.0</td>\n",
              "      <td>1.0</td>\n",
              "    </tr>\n",
              "  </tbody>\n",
              "</table>\n",
              "</div>\n",
              "    <div class=\"colab-df-buttons\">\n",
              "\n",
              "  <div class=\"colab-df-container\">\n",
              "    <button class=\"colab-df-convert\" onclick=\"convertToInteractive('df-476c5f4e-ee33-4579-8338-88c603c2cbfa')\"\n",
              "            title=\"Convert this dataframe to an interactive table.\"\n",
              "            style=\"display:none;\">\n",
              "\n",
              "  <svg xmlns=\"http://www.w3.org/2000/svg\" height=\"24px\" viewBox=\"0 -960 960 960\">\n",
              "    <path d=\"M120-120v-720h720v720H120Zm60-500h600v-160H180v160Zm220 220h160v-160H400v160Zm0 220h160v-160H400v160ZM180-400h160v-160H180v160Zm440 0h160v-160H620v160ZM180-180h160v-160H180v160Zm440 0h160v-160H620v160Z\"/>\n",
              "  </svg>\n",
              "    </button>\n",
              "\n",
              "  <style>\n",
              "    .colab-df-container {\n",
              "      display:flex;\n",
              "      gap: 12px;\n",
              "    }\n",
              "\n",
              "    .colab-df-convert {\n",
              "      background-color: #E8F0FE;\n",
              "      border: none;\n",
              "      border-radius: 50%;\n",
              "      cursor: pointer;\n",
              "      display: none;\n",
              "      fill: #1967D2;\n",
              "      height: 32px;\n",
              "      padding: 0 0 0 0;\n",
              "      width: 32px;\n",
              "    }\n",
              "\n",
              "    .colab-df-convert:hover {\n",
              "      background-color: #E2EBFA;\n",
              "      box-shadow: 0px 1px 2px rgba(60, 64, 67, 0.3), 0px 1px 3px 1px rgba(60, 64, 67, 0.15);\n",
              "      fill: #174EA6;\n",
              "    }\n",
              "\n",
              "    .colab-df-buttons div {\n",
              "      margin-bottom: 4px;\n",
              "    }\n",
              "\n",
              "    [theme=dark] .colab-df-convert {\n",
              "      background-color: #3B4455;\n",
              "      fill: #D2E3FC;\n",
              "    }\n",
              "\n",
              "    [theme=dark] .colab-df-convert:hover {\n",
              "      background-color: #434B5C;\n",
              "      box-shadow: 0px 1px 3px 1px rgba(0, 0, 0, 0.15);\n",
              "      filter: drop-shadow(0px 1px 2px rgba(0, 0, 0, 0.3));\n",
              "      fill: #FFFFFF;\n",
              "    }\n",
              "  </style>\n",
              "\n",
              "    <script>\n",
              "      const buttonEl =\n",
              "        document.querySelector('#df-476c5f4e-ee33-4579-8338-88c603c2cbfa button.colab-df-convert');\n",
              "      buttonEl.style.display =\n",
              "        google.colab.kernel.accessAllowed ? 'block' : 'none';\n",
              "\n",
              "      async function convertToInteractive(key) {\n",
              "        const element = document.querySelector('#df-476c5f4e-ee33-4579-8338-88c603c2cbfa');\n",
              "        const dataTable =\n",
              "          await google.colab.kernel.invokeFunction('convertToInteractive',\n",
              "                                                    [key], {});\n",
              "        if (!dataTable) return;\n",
              "\n",
              "        const docLinkHtml = 'Like what you see? Visit the ' +\n",
              "          '<a target=\"_blank\" href=https://colab.research.google.com/notebooks/data_table.ipynb>data table notebook</a>'\n",
              "          + ' to learn more about interactive tables.';\n",
              "        element.innerHTML = '';\n",
              "        dataTable['output_type'] = 'display_data';\n",
              "        await google.colab.output.renderOutput(dataTable, element);\n",
              "        const docLink = document.createElement('div');\n",
              "        docLink.innerHTML = docLinkHtml;\n",
              "        element.appendChild(docLink);\n",
              "      }\n",
              "    </script>\n",
              "  </div>\n",
              "\n",
              "\n",
              "<div id=\"df-41e0a205-9a38-4a05-818e-d107f19bb388\">\n",
              "  <button class=\"colab-df-quickchart\" onclick=\"quickchart('df-41e0a205-9a38-4a05-818e-d107f19bb388')\"\n",
              "            title=\"Suggest charts.\"\n",
              "            style=\"display:none;\">\n",
              "\n",
              "<svg xmlns=\"http://www.w3.org/2000/svg\" height=\"24px\"viewBox=\"0 0 24 24\"\n",
              "     width=\"24px\">\n",
              "    <g>\n",
              "        <path d=\"M19 3H5c-1.1 0-2 .9-2 2v14c0 1.1.9 2 2 2h14c1.1 0 2-.9 2-2V5c0-1.1-.9-2-2-2zM9 17H7v-7h2v7zm4 0h-2V7h2v10zm4 0h-2v-4h2v4z\"/>\n",
              "    </g>\n",
              "</svg>\n",
              "  </button>\n",
              "\n",
              "<style>\n",
              "  .colab-df-quickchart {\n",
              "    background-color: #E8F0FE;\n",
              "    border: none;\n",
              "    border-radius: 50%;\n",
              "    cursor: pointer;\n",
              "    display: none;\n",
              "    fill: #1967D2;\n",
              "    height: 32px;\n",
              "    padding: 0 0 0 0;\n",
              "    width: 32px;\n",
              "  }\n",
              "\n",
              "  .colab-df-quickchart:hover {\n",
              "    background-color: #E2EBFA;\n",
              "    box-shadow: 0px 1px 2px rgba(60, 64, 67, 0.3), 0px 1px 3px 1px rgba(60, 64, 67, 0.15);\n",
              "    fill: #174EA6;\n",
              "  }\n",
              "\n",
              "  [theme=dark] .colab-df-quickchart {\n",
              "    background-color: #3B4455;\n",
              "    fill: #D2E3FC;\n",
              "  }\n",
              "\n",
              "  [theme=dark] .colab-df-quickchart:hover {\n",
              "    background-color: #434B5C;\n",
              "    box-shadow: 0px 1px 3px 1px rgba(0, 0, 0, 0.15);\n",
              "    filter: drop-shadow(0px 1px 2px rgba(0, 0, 0, 0.3));\n",
              "    fill: #FFFFFF;\n",
              "  }\n",
              "</style>\n",
              "\n",
              "  <script>\n",
              "    async function quickchart(key) {\n",
              "      const charts = await google.colab.kernel.invokeFunction(\n",
              "          'suggestCharts', [key], {});\n",
              "    }\n",
              "    (() => {\n",
              "      let quickchartButtonEl =\n",
              "        document.querySelector('#df-41e0a205-9a38-4a05-818e-d107f19bb388 button');\n",
              "      quickchartButtonEl.style.display =\n",
              "        google.colab.kernel.accessAllowed ? 'block' : 'none';\n",
              "    })();\n",
              "  </script>\n",
              "</div>\n",
              "    </div>\n",
              "  </div>\n"
            ]
          },
          "metadata": {},
          "execution_count": 8
        }
      ],
      "source": [
        "df.head()"
      ]
    },
    {
      "cell_type": "code",
      "execution_count": 9,
      "metadata": {
        "colab": {
          "base_uri": "https://localhost:8080/",
          "height": 206
        },
        "id": "BTG6lAvXh5mZ",
        "outputId": "ace02e86-5644-44ea-c1ad-3d9fe3eaa263"
      },
      "outputs": [
        {
          "output_type": "execute_result",
          "data": {
            "text/plain": [
              "     symbol                       date   close    high       low    open  \\\n",
              "1251   MSFT  2023-08-14 00:00:00+00:00  324.04  324.06  320.0800  321.39   \n",
              "1252   MSFT  2023-08-15 00:00:00+00:00  321.86  325.09  320.9034  323.00   \n",
              "1253   MSFT  2023-08-16 00:00:00+00:00  320.40  324.42  319.8035  320.80   \n",
              "1254   MSFT  2023-08-17 00:00:00+00:00  316.88  321.87  316.2100  320.54   \n",
              "1255   MSFT  2023-08-18 00:00:00+00:00  316.48  318.38  311.5508  314.49   \n",
              "\n",
              "        volume    adjClose     adjHigh      adjLow     adjOpen  adjVolume  \\\n",
              "1251  18836139  323.353731  323.373689  319.402118  320.709343   18836139   \n",
              "1252  16966285  321.178348  324.401507  320.223774  322.315934   16966285   \n",
              "1253  20698864  320.400000  324.420000  319.803500  320.800000   20698864   \n",
              "1254  21257161  316.880000  321.870000  316.210000  320.540000   21257161   \n",
              "1255  24755012  316.480000  318.380000  311.550800  314.490000   24755012   \n",
              "\n",
              "      divCash  splitFactor  \n",
              "1251     0.00          1.0  \n",
              "1252     0.00          1.0  \n",
              "1253     0.68          1.0  \n",
              "1254     0.00          1.0  \n",
              "1255     0.00          1.0  "
            ],
            "text/html": [
              "\n",
              "  <div id=\"df-7f69d471-51d7-4a07-a75b-99279ca3e1f9\" class=\"colab-df-container\">\n",
              "    <div>\n",
              "<style scoped>\n",
              "    .dataframe tbody tr th:only-of-type {\n",
              "        vertical-align: middle;\n",
              "    }\n",
              "\n",
              "    .dataframe tbody tr th {\n",
              "        vertical-align: top;\n",
              "    }\n",
              "\n",
              "    .dataframe thead th {\n",
              "        text-align: right;\n",
              "    }\n",
              "</style>\n",
              "<table border=\"1\" class=\"dataframe\">\n",
              "  <thead>\n",
              "    <tr style=\"text-align: right;\">\n",
              "      <th></th>\n",
              "      <th>symbol</th>\n",
              "      <th>date</th>\n",
              "      <th>close</th>\n",
              "      <th>high</th>\n",
              "      <th>low</th>\n",
              "      <th>open</th>\n",
              "      <th>volume</th>\n",
              "      <th>adjClose</th>\n",
              "      <th>adjHigh</th>\n",
              "      <th>adjLow</th>\n",
              "      <th>adjOpen</th>\n",
              "      <th>adjVolume</th>\n",
              "      <th>divCash</th>\n",
              "      <th>splitFactor</th>\n",
              "    </tr>\n",
              "  </thead>\n",
              "  <tbody>\n",
              "    <tr>\n",
              "      <th>1251</th>\n",
              "      <td>MSFT</td>\n",
              "      <td>2023-08-14 00:00:00+00:00</td>\n",
              "      <td>324.04</td>\n",
              "      <td>324.06</td>\n",
              "      <td>320.0800</td>\n",
              "      <td>321.39</td>\n",
              "      <td>18836139</td>\n",
              "      <td>323.353731</td>\n",
              "      <td>323.373689</td>\n",
              "      <td>319.402118</td>\n",
              "      <td>320.709343</td>\n",
              "      <td>18836139</td>\n",
              "      <td>0.00</td>\n",
              "      <td>1.0</td>\n",
              "    </tr>\n",
              "    <tr>\n",
              "      <th>1252</th>\n",
              "      <td>MSFT</td>\n",
              "      <td>2023-08-15 00:00:00+00:00</td>\n",
              "      <td>321.86</td>\n",
              "      <td>325.09</td>\n",
              "      <td>320.9034</td>\n",
              "      <td>323.00</td>\n",
              "      <td>16966285</td>\n",
              "      <td>321.178348</td>\n",
              "      <td>324.401507</td>\n",
              "      <td>320.223774</td>\n",
              "      <td>322.315934</td>\n",
              "      <td>16966285</td>\n",
              "      <td>0.00</td>\n",
              "      <td>1.0</td>\n",
              "    </tr>\n",
              "    <tr>\n",
              "      <th>1253</th>\n",
              "      <td>MSFT</td>\n",
              "      <td>2023-08-16 00:00:00+00:00</td>\n",
              "      <td>320.40</td>\n",
              "      <td>324.42</td>\n",
              "      <td>319.8035</td>\n",
              "      <td>320.80</td>\n",
              "      <td>20698864</td>\n",
              "      <td>320.400000</td>\n",
              "      <td>324.420000</td>\n",
              "      <td>319.803500</td>\n",
              "      <td>320.800000</td>\n",
              "      <td>20698864</td>\n",
              "      <td>0.68</td>\n",
              "      <td>1.0</td>\n",
              "    </tr>\n",
              "    <tr>\n",
              "      <th>1254</th>\n",
              "      <td>MSFT</td>\n",
              "      <td>2023-08-17 00:00:00+00:00</td>\n",
              "      <td>316.88</td>\n",
              "      <td>321.87</td>\n",
              "      <td>316.2100</td>\n",
              "      <td>320.54</td>\n",
              "      <td>21257161</td>\n",
              "      <td>316.880000</td>\n",
              "      <td>321.870000</td>\n",
              "      <td>316.210000</td>\n",
              "      <td>320.540000</td>\n",
              "      <td>21257161</td>\n",
              "      <td>0.00</td>\n",
              "      <td>1.0</td>\n",
              "    </tr>\n",
              "    <tr>\n",
              "      <th>1255</th>\n",
              "      <td>MSFT</td>\n",
              "      <td>2023-08-18 00:00:00+00:00</td>\n",
              "      <td>316.48</td>\n",
              "      <td>318.38</td>\n",
              "      <td>311.5508</td>\n",
              "      <td>314.49</td>\n",
              "      <td>24755012</td>\n",
              "      <td>316.480000</td>\n",
              "      <td>318.380000</td>\n",
              "      <td>311.550800</td>\n",
              "      <td>314.490000</td>\n",
              "      <td>24755012</td>\n",
              "      <td>0.00</td>\n",
              "      <td>1.0</td>\n",
              "    </tr>\n",
              "  </tbody>\n",
              "</table>\n",
              "</div>\n",
              "    <div class=\"colab-df-buttons\">\n",
              "\n",
              "  <div class=\"colab-df-container\">\n",
              "    <button class=\"colab-df-convert\" onclick=\"convertToInteractive('df-7f69d471-51d7-4a07-a75b-99279ca3e1f9')\"\n",
              "            title=\"Convert this dataframe to an interactive table.\"\n",
              "            style=\"display:none;\">\n",
              "\n",
              "  <svg xmlns=\"http://www.w3.org/2000/svg\" height=\"24px\" viewBox=\"0 -960 960 960\">\n",
              "    <path d=\"M120-120v-720h720v720H120Zm60-500h600v-160H180v160Zm220 220h160v-160H400v160Zm0 220h160v-160H400v160ZM180-400h160v-160H180v160Zm440 0h160v-160H620v160ZM180-180h160v-160H180v160Zm440 0h160v-160H620v160Z\"/>\n",
              "  </svg>\n",
              "    </button>\n",
              "\n",
              "  <style>\n",
              "    .colab-df-container {\n",
              "      display:flex;\n",
              "      gap: 12px;\n",
              "    }\n",
              "\n",
              "    .colab-df-convert {\n",
              "      background-color: #E8F0FE;\n",
              "      border: none;\n",
              "      border-radius: 50%;\n",
              "      cursor: pointer;\n",
              "      display: none;\n",
              "      fill: #1967D2;\n",
              "      height: 32px;\n",
              "      padding: 0 0 0 0;\n",
              "      width: 32px;\n",
              "    }\n",
              "\n",
              "    .colab-df-convert:hover {\n",
              "      background-color: #E2EBFA;\n",
              "      box-shadow: 0px 1px 2px rgba(60, 64, 67, 0.3), 0px 1px 3px 1px rgba(60, 64, 67, 0.15);\n",
              "      fill: #174EA6;\n",
              "    }\n",
              "\n",
              "    .colab-df-buttons div {\n",
              "      margin-bottom: 4px;\n",
              "    }\n",
              "\n",
              "    [theme=dark] .colab-df-convert {\n",
              "      background-color: #3B4455;\n",
              "      fill: #D2E3FC;\n",
              "    }\n",
              "\n",
              "    [theme=dark] .colab-df-convert:hover {\n",
              "      background-color: #434B5C;\n",
              "      box-shadow: 0px 1px 3px 1px rgba(0, 0, 0, 0.15);\n",
              "      filter: drop-shadow(0px 1px 2px rgba(0, 0, 0, 0.3));\n",
              "      fill: #FFFFFF;\n",
              "    }\n",
              "  </style>\n",
              "\n",
              "    <script>\n",
              "      const buttonEl =\n",
              "        document.querySelector('#df-7f69d471-51d7-4a07-a75b-99279ca3e1f9 button.colab-df-convert');\n",
              "      buttonEl.style.display =\n",
              "        google.colab.kernel.accessAllowed ? 'block' : 'none';\n",
              "\n",
              "      async function convertToInteractive(key) {\n",
              "        const element = document.querySelector('#df-7f69d471-51d7-4a07-a75b-99279ca3e1f9');\n",
              "        const dataTable =\n",
              "          await google.colab.kernel.invokeFunction('convertToInteractive',\n",
              "                                                    [key], {});\n",
              "        if (!dataTable) return;\n",
              "\n",
              "        const docLinkHtml = 'Like what you see? Visit the ' +\n",
              "          '<a target=\"_blank\" href=https://colab.research.google.com/notebooks/data_table.ipynb>data table notebook</a>'\n",
              "          + ' to learn more about interactive tables.';\n",
              "        element.innerHTML = '';\n",
              "        dataTable['output_type'] = 'display_data';\n",
              "        await google.colab.output.renderOutput(dataTable, element);\n",
              "        const docLink = document.createElement('div');\n",
              "        docLink.innerHTML = docLinkHtml;\n",
              "        element.appendChild(docLink);\n",
              "      }\n",
              "    </script>\n",
              "  </div>\n",
              "\n",
              "\n",
              "<div id=\"df-52a6ca28-e4a8-4992-a695-4e8564ef7aab\">\n",
              "  <button class=\"colab-df-quickchart\" onclick=\"quickchart('df-52a6ca28-e4a8-4992-a695-4e8564ef7aab')\"\n",
              "            title=\"Suggest charts.\"\n",
              "            style=\"display:none;\">\n",
              "\n",
              "<svg xmlns=\"http://www.w3.org/2000/svg\" height=\"24px\"viewBox=\"0 0 24 24\"\n",
              "     width=\"24px\">\n",
              "    <g>\n",
              "        <path d=\"M19 3H5c-1.1 0-2 .9-2 2v14c0 1.1.9 2 2 2h14c1.1 0 2-.9 2-2V5c0-1.1-.9-2-2-2zM9 17H7v-7h2v7zm4 0h-2V7h2v10zm4 0h-2v-4h2v4z\"/>\n",
              "    </g>\n",
              "</svg>\n",
              "  </button>\n",
              "\n",
              "<style>\n",
              "  .colab-df-quickchart {\n",
              "    background-color: #E8F0FE;\n",
              "    border: none;\n",
              "    border-radius: 50%;\n",
              "    cursor: pointer;\n",
              "    display: none;\n",
              "    fill: #1967D2;\n",
              "    height: 32px;\n",
              "    padding: 0 0 0 0;\n",
              "    width: 32px;\n",
              "  }\n",
              "\n",
              "  .colab-df-quickchart:hover {\n",
              "    background-color: #E2EBFA;\n",
              "    box-shadow: 0px 1px 2px rgba(60, 64, 67, 0.3), 0px 1px 3px 1px rgba(60, 64, 67, 0.15);\n",
              "    fill: #174EA6;\n",
              "  }\n",
              "\n",
              "  [theme=dark] .colab-df-quickchart {\n",
              "    background-color: #3B4455;\n",
              "    fill: #D2E3FC;\n",
              "  }\n",
              "\n",
              "  [theme=dark] .colab-df-quickchart:hover {\n",
              "    background-color: #434B5C;\n",
              "    box-shadow: 0px 1px 3px 1px rgba(0, 0, 0, 0.15);\n",
              "    filter: drop-shadow(0px 1px 2px rgba(0, 0, 0, 0.3));\n",
              "    fill: #FFFFFF;\n",
              "  }\n",
              "</style>\n",
              "\n",
              "  <script>\n",
              "    async function quickchart(key) {\n",
              "      const charts = await google.colab.kernel.invokeFunction(\n",
              "          'suggestCharts', [key], {});\n",
              "    }\n",
              "    (() => {\n",
              "      let quickchartButtonEl =\n",
              "        document.querySelector('#df-52a6ca28-e4a8-4992-a695-4e8564ef7aab button');\n",
              "      quickchartButtonEl.style.display =\n",
              "        google.colab.kernel.accessAllowed ? 'block' : 'none';\n",
              "    })();\n",
              "  </script>\n",
              "</div>\n",
              "    </div>\n",
              "  </div>\n"
            ]
          },
          "metadata": {},
          "execution_count": 9
        }
      ],
      "source": [
        "df.tail()"
      ]
    },
    {
      "cell_type": "code",
      "execution_count": 10,
      "metadata": {
        "id": "sgaOf6IIh5mZ"
      },
      "outputs": [],
      "source": [
        "df1=df.reset_index()['high']"
      ]
    },
    {
      "cell_type": "code",
      "execution_count": 11,
      "metadata": {
        "colab": {
          "base_uri": "https://localhost:8080/"
        },
        "id": "W91nvU3Mh5mZ",
        "outputId": "3ad24b8a-fcc3-4323-c2cd-24aab5f4dfe2"
      },
      "outputs": [
        {
          "output_type": "execute_result",
          "data": {
            "text/plain": [
              "0       107.34\n",
              "1       108.18\n",
              "2       108.56\n",
              "3       109.64\n",
              "4       110.50\n",
              "         ...  \n",
              "1251    324.06\n",
              "1252    325.09\n",
              "1253    324.42\n",
              "1254    321.87\n",
              "1255    318.38\n",
              "Name: high, Length: 1256, dtype: float64"
            ]
          },
          "metadata": {},
          "execution_count": 11
        }
      ],
      "source": [
        "df1"
      ]
    },
    {
      "cell_type": "code",
      "execution_count": 12,
      "metadata": {
        "colab": {
          "base_uri": "https://localhost:8080/",
          "height": 448
        },
        "id": "UToeqp0Jh5ma",
        "outputId": "1c4d052e-9ba8-439f-cc1a-9eaf8166b8c2"
      },
      "outputs": [
        {
          "output_type": "execute_result",
          "data": {
            "text/plain": [
              "[<matplotlib.lines.Line2D at 0x7d9bafa4f1c0>]"
            ]
          },
          "metadata": {},
          "execution_count": 12
        },
        {
          "output_type": "display_data",
          "data": {
            "text/plain": [
              "<Figure size 640x480 with 1 Axes>"
            ],
            "image/png": "[encoded data removed]"
          },
          "metadata": {}
        }
      ],
      "source": [
        "import matplotlib.pyplot as plt\n",
        "plt.plot(df1)"
      ]
    },
    {
      "cell_type": "code",
      "execution_count": 13,
      "metadata": {
        "id": "-gIORcAVh5ma"
      },
      "outputs": [],
      "source": [
        "### LSTM are sensitive to the scale of the data. so we apply MinMax scaler"
      ]
    },
    {
      "cell_type": "code",
      "execution_count": 14,
      "metadata": {
        "id": "wwrfvKxph5ma"
      },
      "outputs": [],
      "source": [
        "import numpy as np"
      ]
    },
    {
      "cell_type": "code",
      "execution_count": 15,
      "metadata": {
        "colab": {
          "base_uri": "https://localhost:8080/"
        },
        "id": "vs2PvQoQh5ma",
        "outputId": "75f1846d-55d0-4bbe-ae3e-057375cdae06"
      },
      "outputs": [
        {
          "output_type": "execute_result",
          "data": {
            "text/plain": [
              "0       107.34\n",
              "1       108.18\n",
              "2       108.56\n",
              "3       109.64\n",
              "4       110.50\n",
              "         ...  \n",
              "1251    324.06\n",
              "1252    325.09\n",
              "1253    324.42\n",
              "1254    321.87\n",
              "1255    318.38\n",
              "Name: high, Length: 1256, dtype: float64"
            ]
          },
          "metadata": {},
          "execution_count": 15
        }
      ],
      "source": [
        "df1"
      ]
    },
    {
      "cell_type": "code",
      "execution_count": 16,
      "metadata": {
        "id": "GNvr9-l2h5ma"
      },
      "outputs": [],
      "source": [
        "from sklearn.preprocessing import MinMaxScaler\n",
        "scaler=MinMaxScaler(feature_range=(0,1))\n",
        "df1=scaler.fit_transform(np.array(df1).reshape(-1,1))"
      ]
    },
    {
      "cell_type": "code",
      "execution_count": 17,
      "metadata": {
        "colab": {
          "base_uri": "https://localhost:8080/"
        },
        "id": "euVY2esYh5ma",
        "outputId": "720d418f-5a52-4148-e683-9234482d570e"
      },
      "outputs": [
        {
          "output_type": "stream",
          "name": "stdout",
          "text": [
            "[[0.03485733]\n",
            " [0.03798222]\n",
            " [0.03939586]\n",
            " ...\n",
            " [0.84241658]\n",
            " [0.83293032]\n",
            " [0.81994717]]\n"
          ]
        }
      ],
      "source": [
        "print(df1)"
      ]
    },
    {
      "cell_type": "code",
      "execution_count": 18,
      "metadata": {
        "id": "ktFQFkKAh5ma"
      },
      "outputs": [],
      "source": [
        "##splitting dataset into train and test split\n",
        "training_size=int(len(df1)*0.65)\n",
        "test_size=len(df1)-training_size\n",
        "train_data,test_data=df1[0:training_size,:],df1[training_size:len(df1),:1]"
      ]
    },
    {
      "cell_type": "code",
      "execution_count": 19,
      "metadata": {
        "colab": {
          "base_uri": "https://localhost:8080/"
        },
        "id": "g6w7Gvmch5mb",
        "outputId": "9c6ce47e-65b3-43e6-9730-517e06c32cde"
      },
      "outputs": [
        {
          "output_type": "execute_result",
          "data": {
            "text/plain": [
              "(816, 440)"
            ]
          },
          "metadata": {},
          "execution_count": 19
        }
      ],
      "source": [
        "training_size,test_size"
      ]
    },
    {
      "cell_type": "code",
      "execution_count": 20,
      "metadata": {
        "colab": {
          "base_uri": "https://localhost:8080/"
        },
        "id": "cICFA2Eyh5mb",
        "outputId": "7865108b-4e17-4279-8cdf-88e05fae1c5a"
      },
      "outputs": [
        {
          "output_type": "execute_result",
          "data": {
            "text/plain": [
              "array([[0.03485733],\n",
              "       [0.03798222],\n",
              "       [0.03939586],\n",
              "       [0.04341356],\n",
              "       [0.04661285],\n",
              "       [0.0523046 ],\n",
              "       [0.05446226],\n",
              "       [0.05509468],\n",
              "       [0.05204419],\n",
              "       [0.05003534],\n",
              "       [0.0409955 ],\n",
              "       [0.03999107],\n",
              "       [0.04341356],\n",
              "       [0.05066776],\n",
              "       [0.05163498],\n",
              "       [0.05862877],\n",
              "       [0.05862877],\n",
              "       [0.05851717],\n",
              "       [0.05851717],\n",
              "       [0.05710353],\n",
              "       [0.05888918],\n",
              "       [0.06443213],\n",
              "       [0.06298129],\n",
              "       [0.06372531],\n",
              "       [0.0635765 ],\n",
              "       [0.06301849],\n",
              "       [0.06175365],\n",
              "       [0.06588297],\n",
              "       [0.06647818],\n",
              "       [0.06774302],\n",
              "       [0.06246047],\n",
              "       [0.05654552],\n",
              "       [0.0523046 ],\n",
              "       [0.05621071],\n",
              "       [0.05033295],\n",
              "       [0.04077229],\n",
              "       [0.04936572],\n",
              "       [0.04281835],\n",
              "       [0.04999814],\n",
              "       [0.05148618],\n",
              "       [0.04672445],\n",
              "       [0.04795209],\n",
              "       [0.04676165],\n",
              "       [0.0409211 ],\n",
              "       [0.03913545],\n",
              "       [0.04203713],\n",
              "       [0.04010267],\n",
              "       [0.03991667],\n",
              "       [0.02384584],\n",
              "       [0.03783341],\n",
              "       [0.03478293],\n",
              "       [0.03478293],\n",
              "       [0.03634537],\n",
              "       [0.04043748],\n",
              "       [0.05308582],\n",
              "       [0.05297422],\n",
              "       [0.05014694],\n",
              "       [0.044604  ],\n",
              "       [0.04006547],\n",
              "       [0.03827983],\n",
              "       [0.03656858],\n",
              "       [0.04058629],\n",
              "       [0.03939586],\n",
              "       [0.0186005 ],\n",
              "       [0.02403184],\n",
              "       [0.02172501],\n",
              "       [0.03221606],\n",
              "       [0.03482013],\n",
              "       [0.04970053],\n",
              "       [0.04891931],\n",
              "       [0.0483613 ],\n",
              "       [0.05747554],\n",
              "       [0.05457386],\n",
              "       [0.04192552],\n",
              "       [0.04270674],\n",
              "       [0.0372382 ],\n",
              "       [0.04828689],\n",
              "       [0.04947733],\n",
              "       [0.04798929],\n",
              "       [0.04199993],\n",
              "       [0.02912838],\n",
              "       [0.02432945],\n",
              "       [0.03314609],\n",
              "       [0.02358543],\n",
              "       [0.0187121 ],\n",
              "       [0.        ],\n",
              "       [0.01011867],\n",
              "       [0.01197872],\n",
              "       [0.01651724],\n",
              "       [0.01648004],\n",
              "       [0.01406198],\n",
              "       [0.00825862],\n",
              "       [0.01688925],\n",
              "       [0.01971653],\n",
              "       [0.0223206 ],\n",
              "       [0.02570589],\n",
              "       [0.02150218],\n",
              "       [0.02034895],\n",
              "       [0.01822849],\n",
              "       [0.02633831],\n",
              "       [0.03083963],\n",
              "       [0.03221606],\n",
              "       [0.03694059],\n",
              "       [0.03396451],\n",
              "       [0.0337413 ],\n",
              "       [0.0335925 ],\n",
              "       [0.03686619],\n",
              "       [0.03165805],\n",
              "       [0.0260407 ],\n",
              "       [0.03128604],\n",
              "       [0.02697072],\n",
              "       [0.02280421],\n",
              "       [0.02912838],\n",
              "       [0.03459693],\n",
              "       [0.0335925 ],\n",
              "       [0.02834716],\n",
              "       [0.02905398],\n",
              "       [0.03203006],\n",
              "       [0.03411331],\n",
              "       [0.03649418],\n",
              "       [0.03467133],\n",
              "       [0.03842863],\n",
              "       [0.03976787],\n",
              "       [0.03708939],\n",
              "       [0.04281835],\n",
              "       [0.04921692],\n",
              "       [0.05286262],\n",
              "       [0.05680592],\n",
              "       [0.05353223],\n",
              "       [0.05546669],\n",
              "       [0.0559875 ],\n",
              "       [0.05684312],\n",
              "       [0.05364384],\n",
              "       [0.05464826],\n",
              "       [0.05051895],\n",
              "       [0.04739407],\n",
              "       [0.05572709],\n",
              "       [0.059596  ],\n",
              "       [0.0633533 ],\n",
              "       [0.06409732],\n",
              "       [0.07172352],\n",
              "       [0.07306276],\n",
              "       [0.07615044],\n",
              "       [0.07730367],\n",
              "       [0.08500428],\n",
              "       [0.08042856],\n",
              "       [0.0745508 ],\n",
              "       [0.07715487],\n",
              "       [0.07529482],\n",
              "       [0.07295116],\n",
              "       [0.07570403],\n",
              "       [0.07864291],\n",
              "       [0.08001934],\n",
              "       [0.08355344],\n",
              "       [0.08280942],\n",
              "       [0.08280942],\n",
              "       [0.0820282 ],\n",
              "       [0.08024255],\n",
              "       [0.08325583],\n",
              "       [0.08511588],\n",
              "       [0.08559949],\n",
              "       [0.08783155],\n",
              "       [0.08809196],\n",
              "       [0.08883598],\n",
              "       [0.09504855],\n",
              "       [0.0968342 ],\n",
              "       [0.10271195],\n",
              "       [0.10371638],\n",
              "       [0.12425133],\n",
              "       [0.12108925],\n",
              "       [0.11982441],\n",
              "       [0.12175886],\n",
              "       [0.12157286],\n",
              "       [0.11171459],\n",
              "       [0.11703434],\n",
              "       [0.11379785],\n",
              "       [0.10866411],\n",
              "       [0.10565083],\n",
              "       [0.10349317],\n",
              "       [0.11145419],\n",
              "       [0.10260035],\n",
              "       [0.10382798],\n",
              "       [0.10691567],\n",
              "       [0.11684833],\n",
              "       [0.12086604],\n",
              "       [0.11018935],\n",
              "       [0.10996615],\n",
              "       [0.11260742],\n",
              "       [0.10535322],\n",
              "       [0.10955694],\n",
              "       [0.11171459],\n",
              "       [0.10200513],\n",
              "       [0.10338157],\n",
              "       [0.09914066],\n",
              "       [0.09821063],\n",
              "       [0.09415572],\n",
              "       [0.10379078],\n",
              "       [0.11160299],\n",
              "       [0.12752502],\n",
              "       [0.1343328 ],\n",
              "       [0.13492802],\n",
              "       [0.12648339],\n",
              "       [0.13031509],\n",
              "       [0.13325397],\n",
              "       [0.13303077],\n",
              "       [0.13864812],\n",
              "       [0.14121498],\n",
              "       [0.14765076],\n",
              "       [0.14791116],\n",
              "       [0.15040363],\n",
              "       [0.14739035],\n",
              "       [0.14050817],\n",
              "       [0.13667646],\n",
              "       [0.13626725],\n",
              "       [0.14407946],\n",
              "       [0.14367025],\n",
              "       [0.14794837],\n",
              "       [0.14642312],\n",
              "       [0.1455675 ],\n",
              "       [0.14508389],\n",
              "       [0.15107325],\n",
              "       [0.15345411],\n",
              "       [0.1531193 ],\n",
              "       [0.15464454],\n",
              "       [0.1528217 ],\n",
              "       [0.14865518],\n",
              "       [0.14378185],\n",
              "       [0.15884826],\n",
              "       [0.15334251],\n",
              "       [0.15631859],\n",
              "       [0.15910866],\n",
              "       [0.15862505],\n",
              "       [0.16260556],\n",
              "       [0.16197314],\n",
              "       [0.16089431],\n",
              "       [0.15817864],\n",
              "       [0.15985268],\n",
              "       [0.15010602],\n",
              "       [0.13377479],\n",
              "       [0.14028496],\n",
              "       [0.14017336],\n",
              "       [0.15259849],\n",
              "       [0.15404933],\n",
              "       [0.14839478],\n",
              "       [0.15189167],\n",
              "       [0.14489788],\n",
              "       [0.13619285],\n",
              "       [0.14318664],\n",
              "       [0.15096165],\n",
              "       [0.15155686],\n",
              "       [0.15445854],\n",
              "       [0.15337971],\n",
              "       [0.15021763],\n",
              "       [0.13983855],\n",
              "       [0.14415386],\n",
              "       [0.14058257],\n",
              "       [0.15055243],\n",
              "       [0.15330531],\n",
              "       [0.14593951],\n",
              "       [0.14776236],\n",
              "       [0.15776943],\n",
              "       [0.15702541],\n",
              "       [0.15542577],\n",
              "       [0.14478628],\n",
              "       [0.14247982],\n",
              "       [0.15047803],\n",
              "       [0.1491388 ],\n",
              "       [0.14407946],\n",
              "       [0.14712994],\n",
              "       [0.15140806],\n",
              "       [0.16517243],\n",
              "       [0.16249395],\n",
              "       [0.15497935],\n",
              "       [0.15892266],\n",
              "       [0.15620699],\n",
              "       [0.15702541],\n",
              "       [0.15769503],\n",
              "       [0.15345411],\n",
              "       [0.15728582],\n",
              "       [0.14285183],\n",
              "       [0.14426547],\n",
              "       [0.14984562],\n",
              "       [0.14958521],\n",
              "       [0.14802277],\n",
              "       [0.15151966],\n",
              "       [0.15512816],\n",
              "       [0.16018749],\n",
              "       [0.15743462],\n",
              "       [0.16301477],\n",
              "       [0.16003869],\n",
              "       [0.16163833],\n",
              "       [0.15635579],\n",
              "       [0.15077564],\n",
              "       [0.15639299],\n",
              "       [0.14686954],\n",
              "       [0.15791823],\n",
              "       [0.1605967 ],\n",
              "       [0.17744876],\n",
              "       [0.17309624],\n",
              "       [0.17495629],\n",
              "       [0.17469588],\n",
              "       [0.17279863],\n",
              "       [0.17495629],\n",
              "       [0.17503069],\n",
              "       [0.17317064],\n",
              "       [0.17450988],\n",
              "       [0.17863919],\n",
              "       [0.18023883],\n",
              "       [0.18451695],\n",
              "       [0.18410773],\n",
              "       [0.18764183],\n",
              "       [0.19351959],\n",
              "       [0.19560284],\n",
              "       [0.19850452],\n",
              "       [0.19668167],\n",
              "       [0.19281277],\n",
              "       [0.19467282],\n",
              "       [0.19857892],\n",
              "       [0.20255943],\n",
              "       [0.20285704],\n",
              "       [0.20211302],\n",
              "       [0.20036457],\n",
              "       [0.19143633],\n",
              "       [0.19422641],\n",
              "       [0.19474722],\n",
              "       [0.20051337],\n",
              "       [0.20177821],\n",
              "       [0.20058778],\n",
              "       [0.20051337],\n",
              "       [0.20635393],\n",
              "       [0.21174807],\n",
              "       [0.21550538],\n",
              "       [0.21479856],\n",
              "       [0.21394293],\n",
              "       [0.21502176],\n",
              "       [0.22514043],\n",
              "       [0.223764  ],\n",
              "       [0.22223876],\n",
              "       [0.22603326],\n",
              "       [0.22908374],\n",
              "       [0.22711209],\n",
              "       [0.22246196],\n",
              "       [0.23347346],\n",
              "       [0.23057178],\n",
              "       [0.22740969],\n",
              "       [0.22953015],\n",
              "       [0.23373386],\n",
              "       [0.23901641],\n",
              "       [0.24273651],\n",
              "       [0.24307131],\n",
              "       [0.24415014],\n",
              "       [0.24541498],\n",
              "       [0.25397121],\n",
              "       [0.25854693],\n",
              "       [0.2612254 ],\n",
              "       [0.25862133],\n",
              "       [0.25605446],\n",
              "       [0.25877014],\n",
              "       [0.24333172],\n",
              "       [0.25218556],\n",
              "       [0.26330866],\n",
              "       [0.28302519],\n",
              "       [0.27688702],\n",
              "       [0.28469923],\n",
              "       [0.30754064],\n",
              "       [0.3207842 ],\n",
              "       [0.31937056],\n",
              "       [0.32610394],\n",
              "       [0.33804546],\n",
              "       [0.34496485],\n",
              "       [0.32692236],\n",
              "       [0.328336  ],\n",
              "       [0.32528552],\n",
              "       [0.33380455],\n",
              "       [0.33559019],\n",
              "       [0.3321305 ],\n",
              "       [0.31818013],\n",
              "       [0.28488523],\n",
              "       [0.28596406],\n",
              "       [0.28008631],\n",
              "       [0.25691009],\n",
              "       [0.24455935],\n",
              "       [0.27882147],\n",
              "       [0.28655928],\n",
              "       [0.27056285],\n",
              "       [0.27119527],\n",
              "       [0.24232729],\n",
              "       [0.22238756],\n",
              "       [0.23458949],\n",
              "       [0.22220156],\n",
              "       [0.20646553],\n",
              "       [0.23786317],\n",
              "       [0.19113872],\n",
              "       [0.18425654],\n",
              "       [0.17867639],\n",
              "       [0.1941148 ],\n",
              "       [0.1827685 ],\n",
              "       [0.15847625],\n",
              "       [0.19206875],\n",
              "       [0.20966482],\n",
              "       [0.21833265],\n",
              "       [0.21174807],\n",
              "       [0.23298984],\n",
              "       [0.24853986],\n",
              "       [0.22238756],\n",
              "       [0.21394293],\n",
              "       [0.22101112],\n",
              "       [0.25493843],\n",
              "       [0.26795878],\n",
              "       [0.25557085],\n",
              "       [0.25817492],\n",
              "       [0.25147874],\n",
              "       [0.28190916],\n",
              "       [0.28123954],\n",
              "       [0.29504111],\n",
              "       [0.30515978],\n",
              "       [0.30050965],\n",
              "       [0.28161155],\n",
              "       [0.28283918],\n",
              "       [0.28678249],\n",
              "       [0.28492244],\n",
              "       [0.29362747],\n",
              "       [0.28905175],\n",
              "       [0.29652915],\n",
              "       [0.30664782],\n",
              "       [0.30010044],\n",
              "       [0.30143968],\n",
              "       [0.31873814],\n",
              "       [0.3207842 ],\n",
              "       [0.32208623],\n",
              "       [0.32376028],\n",
              "       [0.33309773],\n",
              "       [0.33134928],\n",
              "       [0.32022618],\n",
              "       [0.30772665],\n",
              "       [0.33142368],\n",
              "       [0.3282244 ],\n",
              "       [0.32971244],\n",
              "       [0.32692236],\n",
              "       [0.32997284],\n",
              "       [0.32175142],\n",
              "       [0.32934043],\n",
              "       [0.31256278],\n",
              "       [0.32059819],\n",
              "       [0.3210446 ],\n",
              "       [0.31632008],\n",
              "       [0.32376028],\n",
              "       [0.32725717],\n",
              "       [0.32688516],\n",
              "       [0.33391615],\n",
              "       [0.33696663],\n",
              "       [0.34496485],\n",
              "       [0.37405602],\n",
              "       [0.36378855],\n",
              "       [0.34875935],\n",
              "       [0.34541126],\n",
              "       [0.36311893],\n",
              "       [0.36587181],\n",
              "       [0.36650422],\n",
              "       [0.3769205 ],\n",
              "       [0.38238905],\n",
              "       [0.39425617],\n",
              "       [0.3916521 ],\n",
              "       [0.38183103],\n",
              "       [0.37915256],\n",
              "       [0.37409323],\n",
              "       [0.39593021],\n",
              "       [0.40318441],\n",
              "       [0.40939697],\n",
              "       [0.42096648],\n",
              "       [0.43413563],\n",
              "       [0.42889029],\n",
              "       [0.44049701],\n",
              "       [0.43194078],\n",
              "       [0.43833935],\n",
              "       [0.41248465],\n",
              "       [0.4217105 ],\n",
              "       [0.40076634],\n",
              "       [0.39831107],\n",
              "       [0.425319  ],\n",
              "       [0.43141996],\n",
              "       [0.425319  ],\n",
              "       [0.42018526],\n",
              "       [0.39020126],\n",
              "       [0.39433057],\n",
              "       [0.39704624],\n",
              "       [0.39686024],\n",
              "       [0.39615342],\n",
              "       [0.39853428],\n",
              "       [0.44518433],\n",
              "       [0.43450764],\n",
              "       [0.43536327],\n",
              "       [0.44046166],\n",
              "       [0.43796734],\n",
              "       [0.42375656],\n",
              "       [0.40802053],\n",
              "       [0.4178044 ],\n",
              "       [0.4217849 ],\n",
              "       [0.41523753],\n",
              "       [0.42118002],\n",
              "       [0.4255422 ],\n",
              "       [0.42457498],\n",
              "       [0.43536327],\n",
              "       [0.44001339],\n",
              "       [0.43729772],\n",
              "       [0.44135263],\n",
              "       [0.46173877],\n",
              "       [0.49544288],\n",
              "       [0.49356051],\n",
              "       [0.48632863],\n",
              "       [0.48167851],\n",
              "       [0.50180425],\n",
              "       [0.48859789],\n",
              "       [0.44786243],\n",
              "       [0.41687437],\n",
              "       [0.43476768],\n",
              "       [0.43439604],\n",
              "       [0.41166623],\n",
              "       [0.41378669],\n",
              "       [0.41594435],\n",
              "       [0.41918083],\n",
              "       [0.3956698 ],\n",
              "       [0.39314014],\n",
              "       [0.38964324],\n",
              "       [0.40969458],\n",
              "       [0.40969458],\n",
              "       [0.40028273],\n",
              "       [0.41319147],\n",
              "       [0.42632343],\n",
              "       [0.41702318],\n",
              "       [0.42412857],\n",
              "       [0.43160597],\n",
              "       [0.42044567],\n",
              "       [0.41828801],\n",
              "       [0.41743239],\n",
              "       [0.41717198],\n",
              "       [0.42118969],\n",
              "       [0.43856255],\n",
              "       [0.46832335],\n",
              "       [0.47334549],\n",
              "       [0.46966259],\n",
              "       [0.455303  ],\n",
              "       [0.46248279],\n",
              "       [0.46252   ],\n",
              "       [0.4441799 ],\n",
              "       [0.44250586],\n",
              "       [0.43928797],\n",
              "       [0.440125  ],\n",
              "       [0.44034783],\n",
              "       [0.43413563],\n",
              "       [0.41244745],\n",
              "       [0.40694171],\n",
              "       [0.395521  ],\n",
              "       [0.3992039 ],\n",
              "       [0.40976898],\n",
              "       [0.447714  ],\n",
              "       [0.46929058],\n",
              "       [0.4701834 ],\n",
              "       [0.48417098],\n",
              "       [0.44094342],\n",
              "       [0.44667237],\n",
              "       [0.45065288],\n",
              "       [0.44436591],\n",
              "       [0.44555634],\n",
              "       [0.44533313],\n",
              "       [0.43599568],\n",
              "       [0.42803467],\n",
              "       [0.4289833 ],\n",
              "       [0.4252818 ],\n",
              "       [0.43257319],\n",
              "       [0.4364421 ],\n",
              "       [0.44008779],\n",
              "       [0.43447044],\n",
              "       [0.4439939 ],\n",
              "       [0.43711171],\n",
              "       [0.44048101],\n",
              "       [0.43677691],\n",
              "       [0.43737212],\n",
              "       [0.44261746],\n",
              "       [0.43620029],\n",
              "       [0.42822068],\n",
              "       [0.4291135 ],\n",
              "       [0.43986459],\n",
              "       [0.43692571],\n",
              "       [0.45437298],\n",
              "       [0.45727465],\n",
              "       [0.45281054],\n",
              "       [0.46884417],\n",
              "       [0.47490793],\n",
              "       [0.46720323],\n",
              "       [0.46739333],\n",
              "       [0.47639597],\n",
              "       [0.48067408],\n",
              "       [0.47490793],\n",
              "       [0.46512407],\n",
              "       [0.46512407],\n",
              "       [0.44845802],\n",
              "       [0.44090584],\n",
              "       [0.4515085 ],\n",
              "       [0.45612142],\n",
              "       [0.44990886],\n",
              "       [0.44317548],\n",
              "       [0.44191064],\n",
              "       [0.44451471],\n",
              "       [0.43354042],\n",
              "       [0.44272907],\n",
              "       [0.47550314],\n",
              "       [0.47740039],\n",
              "       [0.49142517],\n",
              "       [0.49034634],\n",
              "       [0.50671478],\n",
              "       [0.5300026 ],\n",
              "       [0.53818682],\n",
              "       [0.52099996],\n",
              "       [0.53766601],\n",
              "       [0.53695919],\n",
              "       [0.54730107],\n",
              "       [0.54041851],\n",
              "       [0.54056769],\n",
              "       [0.54205573],\n",
              "       [0.54607343],\n",
              "       [0.55038875],\n",
              "       [0.54752427],\n",
              "       [0.54808229],\n",
              "       [0.55116997],\n",
              "       [0.54439939],\n",
              "       [0.54298575],\n",
              "       [0.54272535],\n",
              "       [0.52066515],\n",
              "       [0.50913284],\n",
              "       [0.51050928],\n",
              "       [0.50822216],\n",
              "       [0.5111417 ],\n",
              "       [0.51895391],\n",
              "       [0.51832149],\n",
              "       [0.50448235],\n",
              "       [0.50042781],\n",
              "       [0.50332949],\n",
              "       [0.5036829 ],\n",
              "       [0.51119341],\n",
              "       [0.51720546],\n",
              "       [0.52527808],\n",
              "       [0.51281574],\n",
              "       [0.51045348],\n",
              "       [0.52857037],\n",
              "       [0.52297162],\n",
              "       [0.50675198],\n",
              "       [0.50036829],\n",
              "       [0.51683345],\n",
              "       [0.53227186],\n",
              "       [0.52092556],\n",
              "       [0.51698226],\n",
              "       [0.51612663],\n",
              "       [0.51646144],\n",
              "       [0.50548715],\n",
              "       [0.52501767],\n",
              "       [0.53893084],\n",
              "       [0.56541795],\n",
              "       [0.5633347 ],\n",
              "       [0.56902645],\n",
              "       [0.58096425],\n",
              "       [0.58785015],\n",
              "       [0.59409992],\n",
              "       [0.59975447],\n",
              "       [0.59841524],\n",
              "       [0.60250735],\n",
              "       [0.60648785],\n",
              "       [0.6082735 ],\n",
              "       [0.60351177],\n",
              "       [0.60529742],\n",
              "       [0.60938953],\n",
              "       [0.6083851 ],\n",
              "       [0.6118262 ],\n",
              "       [0.61463487],\n",
              "       [0.58989584],\n",
              "       [0.58825937],\n",
              "       [0.57702466],\n",
              "       [0.58174919],\n",
              "       [0.57006808],\n",
              "       [0.56370671],\n",
              "       [0.56504594],\n",
              "       [0.58156319],\n",
              "       [0.57200253],\n",
              "       [0.55291842],\n",
              "       [0.5446598 ],\n",
              "       [0.54919832],\n",
              "       [0.56251628],\n",
              "       [0.55288122],\n",
              "       [0.5522116 ],\n",
              "       [0.54038168],\n",
              "       [0.55794055],\n",
              "       [0.55935419],\n",
              "       [0.56988207],\n",
              "       [0.57579703],\n",
              "       [0.57650385],\n",
              "       [0.5710725 ],\n",
              "       [0.57330456],\n",
              "       [0.57036569],\n",
              "       [0.56285108],\n",
              "       [0.55195119],\n",
              "       [0.57170492],\n",
              "       [0.58078196],\n",
              "       [0.58792456],\n",
              "       [0.58613891],\n",
              "       [0.5933187 ],\n",
              "       [0.5971385 ],\n",
              "       [0.60258175],\n",
              "       [0.60273055],\n",
              "       [0.60492541],\n",
              "       [0.60927793],\n",
              "       [0.61132398],\n",
              "       [0.61586251],\n",
              "       [0.62430713],\n",
              "       [0.62817604],\n",
              "       [0.63197054],\n",
              "       [0.62973848],\n",
              "       [0.63587664],\n",
              "       [0.64610692],\n",
              "       [0.64502734],\n",
              "       [0.64681373],\n",
              "       [0.66972955],\n",
              "       [0.67482534],\n",
              "       [0.67975336],\n",
              "       [0.67244522],\n",
              "       [0.66991555],\n",
              "       [0.67631413],\n",
              "       [0.68776348],\n",
              "       [0.69078531],\n",
              "       [0.6865072 ],\n",
              "       [0.69242216],\n",
              "       [0.67854619],\n",
              "       [0.68077824],\n",
              "       [0.6828243 ],\n",
              "       [0.70105279],\n",
              "       [0.71433354],\n",
              "       [0.71321751],\n",
              "       [0.7127897 ],\n",
              "       [0.71492876],\n",
              "       [0.70922957],\n",
              "       [0.70194561],\n",
              "       [0.70237342],\n",
              "       [0.70406607],\n",
              "       [0.70539898],\n",
              "       [0.71299431],\n",
              "       [0.7125107 ],\n",
              "       [0.7201369 ],\n",
              "       [0.71158067],\n",
              "       [0.70938581],\n",
              "       [0.71425914],\n",
              "       [0.72515903],\n",
              "       [0.73230163],\n",
              "       [0.72713069],\n",
              "       [0.73230163],\n",
              "       [0.74215989],\n",
              "       [0.77329712],\n",
              "       [0.77166028],\n",
              "       [0.77259031],\n",
              "       [0.768647  ],\n",
              "       [0.76060786],\n",
              "       [0.75480823],\n",
              "       [0.76727056],\n",
              "       [0.76831219],\n",
              "       [0.77087906],\n",
              "       [0.76407202],\n",
              "       [0.761244  ],\n",
              "       [0.75562665],\n",
              "       [0.753841  ],\n",
              "       [0.75953276],\n",
              "       [0.75127413],\n",
              "       [0.7461404 ],\n",
              "       [0.75674268],\n",
              "       [0.77136267],\n",
              "       [0.77132547],\n",
              "       [0.76831219],\n",
              "       [0.74681001],\n",
              "       [0.7424203 ],\n",
              "       [0.75239016],\n",
              "       [0.75491983],\n",
              "       [0.75082772],\n",
              "       [0.73843979],\n",
              "       [0.71727242],\n",
              "       [0.70235482],\n",
              "       [0.70629813],\n",
              "       [0.71429634],\n",
              "       [0.70600052],\n",
              "       [0.71585134],\n",
              "       [0.72787471],\n",
              "       [0.73907221],\n",
              "       [0.73907556],\n",
              "       [0.74401994],\n",
              "       [0.73460809],\n",
              "       [0.74145307],\n",
              "       [0.76373647],\n",
              "       [0.76812619],\n",
              "       [0.78211376],\n",
              "       [0.78616867],\n",
              "       [0.78765671],\n",
              "       [0.79256724],\n",
              "       [0.79282765],\n",
              "       [0.78654068],\n",
              "       [0.79768238],\n",
              "       [0.8486563 ],\n",
              "       [0.84409062],\n",
              "       [0.87061493],\n",
              "       [0.86871768],\n",
              "       [0.87600908],\n",
              "       [0.88140322],\n",
              "       [0.88750419],\n",
              "       [0.89587441],\n",
              "       [0.8916335 ],\n",
              "       [0.895614  ],\n",
              "       [0.88039991],\n",
              "       [0.87721662],\n",
              "       [0.89007105],\n",
              "       [0.89248912],\n",
              "       [0.9028682 ]])"
            ]
          },
          "metadata": {},
          "execution_count": 20
        }
      ],
      "source": [
        "train_data"
      ]
    },
    {
      "cell_type": "code",
      "execution_count": 21,
      "metadata": {
        "id": "ABY_lhMph5mb"
      },
      "outputs": [],
      "source": [
        "import numpy\n",
        "# convert an array of values into a dataset matrix\n",
        "def create_dataset(dataset, time_step=1):\n",
        "\tdataX, dataY = [], []\n",
        "\tfor i in range(len(dataset)-time_step-1):\n",
        "\t\ta = dataset[i:(i+time_step), 0]   ###i=0, 0,1,2,3-----99   100\n",
        "\t\tdataX.append(a)\n",
        "\t\tdataY.append(dataset[i + time_step, 0])\n",
        "\treturn numpy.array(dataX), numpy.array(dataY)"
      ]
    },
    {
      "cell_type": "code",
      "execution_count": 22,
      "metadata": {
        "id": "3Up7HrJch5mb"
      },
      "outputs": [],
      "source": [
        "# reshape into X=t,t+1,t+2,t+3 and Y=t+4\n",
        "time_step = 150\n",
        "X_train, y_train = create_dataset(train_data, time_step)\n",
        "X_test, ytest = create_dataset(test_data, time_step)"
      ]
    },
    {
      "cell_type": "code",
      "execution_count": 23,
      "metadata": {
        "colab": {
          "base_uri": "https://localhost:8080/"
        },
        "id": "0pxhtLsJh5mb",
        "outputId": "7e17fdbc-e02e-4c36-9abd-312a38801af7"
      },
      "outputs": [
        {
          "output_type": "stream",
          "name": "stdout",
          "text": [
            "(665, 150)\n",
            "(665,)\n"
          ]
        },
        {
          "output_type": "execute_result",
          "data": {
            "text/plain": [
              "(None, None)"
            ]
          },
          "metadata": {},
          "execution_count": 23
        }
      ],
      "source": [
        "print(X_train.shape), print(y_train.shape)"
      ]
    },
    {
      "cell_type": "code",
      "execution_count": 24,
      "metadata": {
        "colab": {
          "base_uri": "https://localhost:8080/"
        },
        "id": "jQIS4ff_h5mb",
        "outputId": "937f4d39-e78c-49bc-d251-e8e2f51ba4d3"
      },
      "outputs": [
        {
          "output_type": "stream",
          "name": "stdout",
          "text": [
            "(289, 150)\n",
            "(289,)\n"
          ]
        },
        {
          "output_type": "execute_result",
          "data": {
            "text/plain": [
              "(None, None)"
            ]
          },
          "metadata": {},
          "execution_count": 24
        }
      ],
      "source": [
        "print(X_test.shape), print(ytest.shape)"
      ]
    },
    {
      "cell_type": "code",
      "execution_count": 25,
      "metadata": {
        "id": "LIhMag1Rh5mc"
      },
      "outputs": [],
      "source": [
        "# reshape input to be [samples, time steps, features] which is required for LSTM\n",
        "X_train =X_train.reshape(X_train.shape[0],X_train.shape[1] , 1)\n",
        "X_test = X_test.reshape(X_test.shape[0],X_test.shape[1] , 1)"
      ]
    },
    {
      "cell_type": "code",
      "execution_count": 26,
      "metadata": {
        "id": "wOfy4dBBh5mc"
      },
      "outputs": [],
      "source": [
        "### Create the Stacked LSTM model\n",
        "from tensorflow.keras.models import Sequential\n",
        "from tensorflow.keras.layers import Dense\n",
        "from tensorflow.keras.layers import LSTM"
      ]
    },
    {
      "cell_type": "code",
      "execution_count": 27,
      "metadata": {
        "id": "p4x-Y9Ljh5mc"
      },
      "outputs": [],
      "source": [
        "model=Sequential()\n",
        "model.add(LSTM(50,return_sequences=True,input_shape=(time_step,1)))\n",
        "model.add(LSTM(50,return_sequences=True))\n",
        "model.add(LSTM(50))\n",
        "model.add(Dense(1))\n",
        "model.compile(loss='mean_squared_error',optimizer='adam')\n"
      ]
    },
    {
      "cell_type": "code",
      "execution_count": 28,
      "metadata": {
        "colab": {
          "base_uri": "https://localhost:8080/"
        },
        "id": "0IvjwENxh5mc",
        "outputId": "29949edd-4385-44e1-90f2-492f55c0eef7"
      },
      "outputs": [
        {
          "output_type": "stream",
          "name": "stdout",
          "text": [
            "Model: \"sequential\"\n",
            "_________________________________________________________________\n",
            " Layer (type)                Output Shape              Param #   \n",
            "=================================================================\n",
            " lstm (LSTM)                 (None, 150, 50)           10400     \n",
            "                                                                 \n",
            " lstm_1 (LSTM)               (None, 150, 50)           20200     \n",
            "                                                                 \n",
            " lstm_2 (LSTM)               (None, 50)                20200     \n",
            "                                                                 \n",
            " dense (Dense)               (None, 1)                 51        \n",
            "                                                                 \n",
            "=================================================================\n",
            "Total params: 50,851\n",
            "Trainable params: 50,851\n",
            "Non-trainable params: 0\n",
            "_________________________________________________________________\n"
          ]
        }
      ],
      "source": [
        "model.summary()"
      ]
    },
    {
      "cell_type": "code",
      "execution_count": 29,
      "metadata": {
        "colab": {
          "base_uri": "https://localhost:8080/"
        },
        "id": "SsyhWPEZh5mc",
        "outputId": "79ac2888-e54d-4a8d-b3fd-05dc312200c8"
      },
      "outputs": [
        {
          "output_type": "stream",
          "name": "stdout",
          "text": [
            "Epoch 1/100\n",
            "11/11 [==============================] - 16s 282ms/step - loss: 0.0598 - val_loss: 0.0062\n",
            "Epoch 2/100\n",
            "11/11 [==============================] - 1s 58ms/step - loss: 0.0078 - val_loss: 0.0031\n",
            "Epoch 3/100\n",
            "11/11 [==============================] - 1s 46ms/step - loss: 0.0037 - val_loss: 0.0065\n",
            "Epoch 4/100\n",
            "11/11 [==============================] - 0s 40ms/step - loss: 0.0015 - val_loss: 0.0024\n",
            "Epoch 5/100\n",
            "11/11 [==============================] - 0s 45ms/step - loss: 9.5978e-04 - val_loss: 0.0030\n",
            "Epoch 6/100\n",
            "11/11 [==============================] - 1s 47ms/step - loss: 9.6763e-04 - val_loss: 0.0024\n",
            "Epoch 7/100\n",
            "11/11 [==============================] - 0s 44ms/step - loss: 8.3947e-04 - val_loss: 0.0021\n",
            "Epoch 8/100\n",
            "11/11 [==============================] - 1s 64ms/step - loss: 8.5382e-04 - val_loss: 0.0021\n",
            "Epoch 9/100\n",
            "11/11 [==============================] - 1s 85ms/step - loss: 8.3800e-04 - val_loss: 0.0025\n",
            "Epoch 10/100\n",
            "11/11 [==============================] - 1s 67ms/step - loss: 8.9226e-04 - val_loss: 0.0025\n",
            "Epoch 11/100\n",
            "11/11 [==============================] - 1s 68ms/step - loss: 8.6190e-04 - val_loss: 0.0026\n",
            "Epoch 12/100\n",
            "11/11 [==============================] - 1s 58ms/step - loss: 9.3228e-04 - val_loss: 0.0024\n",
            "Epoch 13/100\n",
            "11/11 [==============================] - 1s 50ms/step - loss: 8.4709e-04 - val_loss: 0.0021\n",
            "Epoch 14/100\n",
            "11/11 [==============================] - 0s 36ms/step - loss: 8.0538e-04 - val_loss: 0.0021\n",
            "Epoch 15/100\n",
            "11/11 [==============================] - 0s 34ms/step - loss: 7.9818e-04 - val_loss: 0.0024\n",
            "Epoch 16/100\n",
            "11/11 [==============================] - 0s 38ms/step - loss: 8.0450e-04 - val_loss: 0.0022\n",
            "Epoch 17/100\n",
            "11/11 [==============================] - 0s 33ms/step - loss: 7.9211e-04 - val_loss: 0.0021\n",
            "Epoch 18/100\n",
            "11/11 [==============================] - 0s 42ms/step - loss: 7.9351e-04 - val_loss: 0.0023\n",
            "Epoch 19/100\n",
            "11/11 [==============================] - 0s 21ms/step - loss: 7.9140e-04 - val_loss: 0.0024\n",
            "Epoch 20/100\n",
            "11/11 [==============================] - 0s 21ms/step - loss: 8.1932e-04 - val_loss: 0.0027\n",
            "Epoch 21/100\n",
            "11/11 [==============================] - 0s 21ms/step - loss: 9.1254e-04 - val_loss: 0.0023\n",
            "Epoch 22/100\n",
            "11/11 [==============================] - 0s 21ms/step - loss: 7.5317e-04 - val_loss: 0.0019\n",
            "Epoch 23/100\n",
            "11/11 [==============================] - 0s 21ms/step - loss: 7.4696e-04 - val_loss: 0.0019\n",
            "Epoch 24/100\n",
            "11/11 [==============================] - 0s 21ms/step - loss: 7.5383e-04 - val_loss: 0.0021\n",
            "Epoch 25/100\n",
            "11/11 [==============================] - 0s 22ms/step - loss: 7.5132e-04 - val_loss: 0.0019\n",
            "Epoch 26/100\n",
            "11/11 [==============================] - 0s 22ms/step - loss: 7.3073e-04 - val_loss: 0.0018\n",
            "Epoch 27/100\n",
            "11/11 [==============================] - 0s 21ms/step - loss: 7.2273e-04 - val_loss: 0.0020\n",
            "Epoch 28/100\n",
            "11/11 [==============================] - 0s 22ms/step - loss: 7.0991e-04 - val_loss: 0.0020\n",
            "Epoch 29/100\n",
            "11/11 [==============================] - 0s 23ms/step - loss: 7.1041e-04 - val_loss: 0.0017\n",
            "Epoch 30/100\n",
            "11/11 [==============================] - 0s 22ms/step - loss: 7.3768e-04 - val_loss: 0.0017\n",
            "Epoch 31/100\n",
            "11/11 [==============================] - 0s 22ms/step - loss: 7.0939e-04 - val_loss: 0.0022\n",
            "Epoch 32/100\n",
            "11/11 [==============================] - 0s 22ms/step - loss: 6.9265e-04 - val_loss: 0.0018\n",
            "Epoch 33/100\n",
            "11/11 [==============================] - 0s 22ms/step - loss: 6.5904e-04 - val_loss: 0.0018\n",
            "Epoch 34/100\n",
            "11/11 [==============================] - 0s 22ms/step - loss: 6.4935e-04 - val_loss: 0.0024\n",
            "Epoch 35/100\n",
            "11/11 [==============================] - 0s 21ms/step - loss: 7.0371e-04 - val_loss: 0.0016\n",
            "Epoch 36/100\n",
            "11/11 [==============================] - 0s 21ms/step - loss: 7.4844e-04 - val_loss: 0.0015\n",
            "Epoch 37/100\n",
            "11/11 [==============================] - 0s 21ms/step - loss: 7.0300e-04 - val_loss: 0.0033\n",
            "Epoch 38/100\n",
            "11/11 [==============================] - 0s 21ms/step - loss: 8.4266e-04 - val_loss: 0.0018\n",
            "Epoch 39/100\n",
            "11/11 [==============================] - 0s 21ms/step - loss: 7.7645e-04 - val_loss: 0.0015\n",
            "Epoch 40/100\n",
            "11/11 [==============================] - 0s 21ms/step - loss: 6.2079e-04 - val_loss: 0.0019\n",
            "Epoch 41/100\n",
            "11/11 [==============================] - 0s 24ms/step - loss: 6.0988e-04 - val_loss: 0.0014\n",
            "Epoch 42/100\n",
            "11/11 [==============================] - 0s 21ms/step - loss: 5.8002e-04 - val_loss: 0.0014\n",
            "Epoch 43/100\n",
            "11/11 [==============================] - 0s 22ms/step - loss: 6.0262e-04 - val_loss: 0.0014\n",
            "Epoch 44/100\n",
            "11/11 [==============================] - 0s 22ms/step - loss: 6.3231e-04 - val_loss: 0.0017\n",
            "Epoch 45/100\n",
            "11/11 [==============================] - 0s 22ms/step - loss: 5.8606e-04 - val_loss: 0.0014\n",
            "Epoch 46/100\n",
            "11/11 [==============================] - 0s 21ms/step - loss: 5.7949e-04 - val_loss: 0.0013\n",
            "Epoch 47/100\n",
            "11/11 [==============================] - 0s 30ms/step - loss: 5.5073e-04 - val_loss: 0.0016\n",
            "Epoch 48/100\n",
            "11/11 [==============================] - 0s 31ms/step - loss: 5.3026e-04 - val_loss: 0.0012\n",
            "Epoch 49/100\n",
            "11/11 [==============================] - 0s 32ms/step - loss: 5.2848e-04 - val_loss: 0.0014\n",
            "Epoch 50/100\n",
            "11/11 [==============================] - 0s 31ms/step - loss: 5.0688e-04 - val_loss: 0.0012\n",
            "Epoch 51/100\n",
            "11/11 [==============================] - 0s 33ms/step - loss: 5.2128e-04 - val_loss: 0.0018\n",
            "Epoch 52/100\n",
            "11/11 [==============================] - 0s 32ms/step - loss: 5.2386e-04 - val_loss: 0.0011\n",
            "Epoch 53/100\n",
            "11/11 [==============================] - 0s 26ms/step - loss: 4.7405e-04 - val_loss: 0.0011\n",
            "Epoch 54/100\n",
            "11/11 [==============================] - 0s 23ms/step - loss: 4.7462e-04 - val_loss: 0.0011\n",
            "Epoch 55/100\n",
            "11/11 [==============================] - 0s 22ms/step - loss: 4.5368e-04 - val_loss: 0.0011\n",
            "Epoch 56/100\n",
            "11/11 [==============================] - 0s 21ms/step - loss: 4.5607e-04 - val_loss: 0.0011\n",
            "Epoch 57/100\n",
            "11/11 [==============================] - 0s 21ms/step - loss: 4.7412e-04 - val_loss: 0.0015\n",
            "Epoch 58/100\n",
            "11/11 [==============================] - 0s 21ms/step - loss: 4.6285e-04 - val_loss: 0.0011\n",
            "Epoch 59/100\n",
            "11/11 [==============================] - 0s 24ms/step - loss: 4.4709e-04 - val_loss: 0.0011\n",
            "Epoch 60/100\n",
            "11/11 [==============================] - 0s 21ms/step - loss: 4.3103e-04 - val_loss: 0.0011\n",
            "Epoch 61/100\n",
            "11/11 [==============================] - 0s 21ms/step - loss: 4.0890e-04 - val_loss: 0.0011\n",
            "Epoch 62/100\n",
            "11/11 [==============================] - 0s 21ms/step - loss: 4.2170e-04 - val_loss: 0.0011\n",
            "Epoch 63/100\n",
            "11/11 [==============================] - 0s 23ms/step - loss: 4.2927e-04 - val_loss: 0.0011\n",
            "Epoch 64/100\n",
            "11/11 [==============================] - 0s 21ms/step - loss: 4.0579e-04 - val_loss: 0.0012\n",
            "Epoch 65/100\n",
            "11/11 [==============================] - 0s 23ms/step - loss: 3.9298e-04 - val_loss: 0.0011\n",
            "Epoch 66/100\n",
            "11/11 [==============================] - 0s 21ms/step - loss: 4.0271e-04 - val_loss: 0.0012\n",
            "Epoch 67/100\n",
            "11/11 [==============================] - 0s 21ms/step - loss: 3.9321e-04 - val_loss: 0.0011\n",
            "Epoch 68/100\n",
            "11/11 [==============================] - 0s 21ms/step - loss: 4.0581e-04 - val_loss: 0.0012\n",
            "Epoch 69/100\n",
            "11/11 [==============================] - 0s 23ms/step - loss: 4.2436e-04 - val_loss: 0.0012\n",
            "Epoch 70/100\n",
            "11/11 [==============================] - 0s 20ms/step - loss: 3.9655e-04 - val_loss: 0.0014\n",
            "Epoch 71/100\n",
            "11/11 [==============================] - 0s 21ms/step - loss: 4.5870e-04 - val_loss: 0.0011\n",
            "Epoch 72/100\n",
            "11/11 [==============================] - 0s 23ms/step - loss: 3.8781e-04 - val_loss: 0.0011\n",
            "Epoch 73/100\n",
            "11/11 [==============================] - 0s 21ms/step - loss: 3.7301e-04 - val_loss: 0.0011\n",
            "Epoch 74/100\n",
            "11/11 [==============================] - 0s 26ms/step - loss: 3.6663e-04 - val_loss: 0.0011\n",
            "Epoch 75/100\n",
            "11/11 [==============================] - 0s 21ms/step - loss: 3.7242e-04 - val_loss: 0.0011\n",
            "Epoch 76/100\n",
            "11/11 [==============================] - 0s 22ms/step - loss: 3.7851e-04 - val_loss: 0.0011\n",
            "Epoch 77/100\n",
            "11/11 [==============================] - 0s 20ms/step - loss: 3.5336e-04 - val_loss: 0.0012\n",
            "Epoch 78/100\n",
            "11/11 [==============================] - 0s 24ms/step - loss: 3.9648e-04 - val_loss: 0.0010\n",
            "Epoch 79/100\n",
            "11/11 [==============================] - 0s 23ms/step - loss: 3.7730e-04 - val_loss: 0.0010\n",
            "Epoch 80/100\n",
            "11/11 [==============================] - 0s 22ms/step - loss: 4.0372e-04 - val_loss: 0.0013\n",
            "Epoch 81/100\n",
            "11/11 [==============================] - 0s 21ms/step - loss: 4.2066e-04 - val_loss: 0.0011\n",
            "Epoch 82/100\n",
            "11/11 [==============================] - 0s 21ms/step - loss: 3.8650e-04 - val_loss: 0.0011\n",
            "Epoch 83/100\n",
            "11/11 [==============================] - 0s 20ms/step - loss: 4.1580e-04 - val_loss: 0.0011\n",
            "Epoch 84/100\n",
            "11/11 [==============================] - 0s 21ms/step - loss: 4.1945e-04 - val_loss: 9.8875e-04\n",
            "Epoch 85/100\n",
            "11/11 [==============================] - 0s 21ms/step - loss: 4.1680e-04 - val_loss: 0.0011\n",
            "Epoch 86/100\n",
            "11/11 [==============================] - 0s 21ms/step - loss: 3.6188e-04 - val_loss: 9.5813e-04\n",
            "Epoch 87/100\n",
            "11/11 [==============================] - 0s 21ms/step - loss: 3.5239e-04 - val_loss: 0.0010\n",
            "Epoch 88/100\n",
            "11/11 [==============================] - 0s 21ms/step - loss: 3.5176e-04 - val_loss: 9.6279e-04\n",
            "Epoch 89/100\n",
            "11/11 [==============================] - 0s 22ms/step - loss: 3.5496e-04 - val_loss: 0.0010\n",
            "Epoch 90/100\n",
            "11/11 [==============================] - 0s 21ms/step - loss: 3.9272e-04 - val_loss: 0.0011\n",
            "Epoch 91/100\n",
            "11/11 [==============================] - 0s 23ms/step - loss: 3.2654e-04 - val_loss: 0.0010\n",
            "Epoch 92/100\n",
            "11/11 [==============================] - 0s 21ms/step - loss: 3.2574e-04 - val_loss: 9.4296e-04\n",
            "Epoch 93/100\n",
            "11/11 [==============================] - 0s 22ms/step - loss: 3.3815e-04 - val_loss: 0.0011\n",
            "Epoch 94/100\n",
            "11/11 [==============================] - 0s 22ms/step - loss: 3.6355e-04 - val_loss: 9.5380e-04\n",
            "Epoch 95/100\n",
            "11/11 [==============================] - 0s 29ms/step - loss: 3.3320e-04 - val_loss: 9.2448e-04\n",
            "Epoch 96/100\n",
            "11/11 [==============================] - 0s 33ms/step - loss: 3.3534e-04 - val_loss: 9.3986e-04\n",
            "Epoch 97/100\n",
            "11/11 [==============================] - 0s 32ms/step - loss: 3.5176e-04 - val_loss: 9.2288e-04\n",
            "Epoch 98/100\n",
            "11/11 [==============================] - 0s 30ms/step - loss: 3.0584e-04 - val_loss: 0.0012\n",
            "Epoch 99/100\n",
            "11/11 [==============================] - 0s 31ms/step - loss: 3.6570e-04 - val_loss: 9.6574e-04\n",
            "Epoch 100/100\n",
            "11/11 [==============================] - 0s 33ms/step - loss: 3.6013e-04 - val_loss: 8.9078e-04\n"
          ]
        },
        {
          "output_type": "execute_result",
          "data": {
            "text/plain": [
              "<keras.callbacks.History at 0x7d9b402dd150>"
            ]
          },
          "metadata": {},
          "execution_count": 29
        }
      ],
      "source": [
        "model.fit(X_train,y_train,validation_data=(X_test,ytest),epochs=100,batch_size=64,verbose=1)"
      ]
    },
    {
      "cell_type": "code",
      "execution_count": 30,
      "metadata": {
        "id": "Vv0s4pLGh5mc"
      },
      "outputs": [],
      "source": [
        "import tensorflow as tf"
      ]
    },
    {
      "cell_type": "code",
      "execution_count": 31,
      "metadata": {
        "colab": {
          "base_uri": "https://localhost:8080/",
          "height": 35
        },
        "id": "9W3tZfcUh5md",
        "outputId": "9af63d0c-4aec-4f74-d9d2-b7223ff70f94"
      },
      "outputs": [
        {
          "output_type": "execute_result",
          "data": {
            "text/plain": [
              "'2.12.0'"
            ],
            "application/vnd.google.colaboratory.intrinsic+json": {
              "type": "string"
            }
          },
          "metadata": {},
          "execution_count": 31
        }
      ],
      "source": [
        "tf.__version__"
      ]
    },
    {
      "cell_type": "code",
      "execution_count": 32,
      "metadata": {
        "colab": {
          "base_uri": "https://localhost:8080/"
        },
        "id": "HTCBvasYh5md",
        "outputId": "8be392be-70b0-4bdb-be48-203810f65bd6"
      },
      "outputs": [
        {
          "output_type": "stream",
          "name": "stdout",
          "text": [
            "21/21 [==============================] - 1s 7ms/step\n",
            "10/10 [==============================] - 0s 7ms/step\n"
          ]
        }
      ],
      "source": [
        "### Lets Do the prediction and check performance metrics\n",
        "train_predict=model.predict(X_train)\n",
        "test_predict=model.predict(X_test)"
      ]
    },
    {
      "cell_type": "code",
      "execution_count": 33,
      "metadata": {
        "id": "AEccgsiKh5md"
      },
      "outputs": [],
      "source": [
        "##Transformback to original form\n",
        "train_predict=scaler.inverse_transform(train_predict)\n",
        "test_predict=scaler.inverse_transform(test_predict)"
      ]
    },
    {
      "cell_type": "code",
      "execution_count": 34,
      "metadata": {
        "colab": {
          "base_uri": "https://localhost:8080/"
        },
        "id": "uE_n8DWBh5md",
        "outputId": "480a7841-5f9f-4017-e684-1e143d8a86f8"
      },
      "outputs": [
        {
          "output_type": "execute_result",
          "data": {
            "text/plain": [
              "210.02248013749238"
            ]
          },
          "metadata": {},
          "execution_count": 34
        }
      ],
      "source": [
        "### Calculate RMSE performance metrics\n",
        "import math\n",
        "from sklearn.metrics import mean_squared_error\n",
        "math.sqrt(mean_squared_error(y_train,train_predict))"
      ]
    },
    {
      "cell_type": "code",
      "execution_count": 35,
      "metadata": {
        "colab": {
          "base_uri": "https://localhost:8080/"
        },
        "id": "r6rBKmnRh5md",
        "outputId": "178c0927-bcc6-433a-cabc-ebc73f55ea3d"
      },
      "outputs": [
        {
          "output_type": "execute_result",
          "data": {
            "text/plain": [
              "280.0318225634248"
            ]
          },
          "metadata": {},
          "execution_count": 35
        }
      ],
      "source": [
        "### Test Data RMSE\n",
        "math.sqrt(mean_squared_error(ytest,test_predict))"
      ]
    },
    {
      "cell_type": "code",
      "execution_count": 36,
      "metadata": {
        "colab": {
          "base_uri": "https://localhost:8080/",
          "height": 430
        },
        "id": "2mOvE9Qgh5md",
        "outputId": "a8117531-e775-478b-a868-4a77b3170baa"
      },
      "outputs": [
        {
          "output_type": "display_data",
          "data": {
            "text/plain": [
              "<Figure size 640x480 with 1 Axes>"
            ],
            "image/png": "[encoded data removed]"
          },
          "metadata": {}
        }
      ],
      "source": [
        "### Plotting\n",
        "# shift train predictions for plotting\n",
        "look_back=150\n",
        "trainPredictPlot = numpy.empty_like(df1)\n",
        "trainPredictPlot[:, :] = np.nan\n",
        "trainPredictPlot[look_back:len(train_predict)+look_back, :] = train_predict\n",
        "# shift test predictions for plotting\n",
        "testPredictPlot = numpy.empty_like(df1)\n",
        "testPredictPlot[:, :] = numpy.nan\n",
        "testPredictPlot[len(train_predict)+(look_back*2)+1:len(df1)-1, :] = test_predict\n",
        "# plot baseline and predictions\n",
        "plt.plot(scaler.inverse_transform(df1))\n",
        "plt.plot(trainPredictPlot)\n",
        "plt.plot(testPredictPlot)\n",
        "plt.show()"
      ]
    },
    {
      "cell_type": "code",
      "execution_count": 37,
      "metadata": {
        "colab": {
          "base_uri": "https://localhost:8080/"
        },
        "id": "Pb2ZDCH7h5md",
        "outputId": "e674bf94-5943-4563-b2f6-177a66e23fb8"
      },
      "outputs": [
        {
          "output_type": "execute_result",
          "data": {
            "text/plain": [
              "440"
            ]
          },
          "metadata": {},
          "execution_count": 37
        }
      ],
      "source": [
        "len(test_data)"
      ]
    },
    {
      "cell_type": "code",
      "source": [
        "test_data.shape"
      ],
      "metadata": {
        "colab": {
          "base_uri": "https://localhost:8080/"
        },
        "id": "5IwZ9YxJqzBL",
        "outputId": "b9bad8fb-b4d8-4228-c3a1-981ede889fb2"
      },
      "execution_count": 38,
      "outputs": [
        {
          "output_type": "execute_result",
          "data": {
            "text/plain": [
              "(440, 1)"
            ]
          },
          "metadata": {},
          "execution_count": 38
        }
      ]
    },
    {
      "cell_type": "code",
      "execution_count": 39,
      "metadata": {
        "colab": {
          "base_uri": "https://localhost:8080/"
        },
        "id": "ysjS_FeRh5mr",
        "outputId": "908d530d-1a6a-4706-a9c5-3897ee95798f"
      },
      "outputs": [
        {
          "output_type": "execute_result",
          "data": {
            "text/plain": [
              "(1, 100)"
            ]
          },
          "metadata": {},
          "execution_count": 39
        }
      ],
      "source": [
        "x_input=test_data[340:].reshape(1,-1)\n",
        "x_input.shape\n"
      ]
    },
    {
      "cell_type": "code",
      "execution_count": 40,
      "metadata": {
        "id": "Euq9Gpcph5mr"
      },
      "outputs": [],
      "source": [
        "temp_input=list(x_input)\n",
        "temp_input=temp_input[0].tolist()"
      ]
    },
    {
      "cell_type": "code",
      "execution_count": 41,
      "metadata": {
        "colab": {
          "base_uri": "https://localhost:8080/"
        },
        "id": "bBXbmoc9h5mr",
        "outputId": "78f8b892-5cfe-403d-f03e-42192fe315d8"
      },
      "outputs": [
        {
          "output_type": "execute_result",
          "data": {
            "text/plain": [
              "[0.6628101633123769,\n",
              " 0.6814099177857968,\n",
              " 0.6937613928053272,\n",
              " 0.7116550723559392,\n",
              " 0.7079349726572672,\n",
              " 0.7160444179904024,\n",
              " 0.7037684609947548,\n",
              " 0.7221085525092072,\n",
              " 0.7128827052565012,\n",
              " 0.6994159443473087,\n",
              " 0.7032476470369406,\n",
              " 0.7139987351661026,\n",
              " 0.7087161935939885,\n",
              " 0.7203229046538451,\n",
              " 0.7208995201071391,\n",
              " 0.7108366504222314,\n",
              " 0.7107622484282579,\n",
              " 0.7004947732599234,\n",
              " 0.6955842416576765,\n",
              " 0.6831219076671258,\n",
              " 0.74997209925226,\n",
              " 0.7709162605557831,\n",
              " 0.7847922324318293,\n",
              " 0.7835645995312677,\n",
              " 0.7857222573564973,\n",
              " 0.7836018005282543,\n",
              " 0.7804493880435999,\n",
              " 0.7961013355157922,\n",
              " 0.7895167590491428,\n",
              " 0.7889215430973553,\n",
              " 0.7999330382054242,\n",
              " 0.7929392507719208,\n",
              " 0.7911908039135449,\n",
              " 0.7884193296380344,\n",
              " 0.8025743089914812,\n",
              " 0.8052527807745249,\n",
              " 0.8224024403854027,\n",
              " 0.8213236114727878,\n",
              " 0.8356087943156878,\n",
              " 0.8360924072765152,\n",
              " 0.8129533871507759,\n",
              " 0.8516424240169638,\n",
              " 0.8758230720583313,\n",
              " 0.8845281053532237,\n",
              " 0.8852721252929581,\n",
              " 0.8763066850191585,\n",
              " 0.8910754808228862,\n",
              " 0.8950184144935087,\n",
              " 0.8831516684647152,\n",
              " 0.8798779807298838,\n",
              " 0.8506751980953091,\n",
              " 0.8631375320858601,\n",
              " 0.8709865704400879,\n",
              " 0.8891410289795769,\n",
              " 0.896804434358841,\n",
              " 0.9369815111044977,\n",
              " 0.9430452736133332,\n",
              " 0.9081135374428035,\n",
              " 0.8919311037535809,\n",
              " 0.9008221420334068,\n",
              " 0.8927867266842753,\n",
              " 0.8859045422417324,\n",
              " 0.8860533462296791,\n",
              " 0.8928611286782488,\n",
              " 0.8859045422417324,\n",
              " 0.9105316022469405,\n",
              " 0.9037238197983708,\n",
              " 0.9065138945723747,\n",
              " 0.9114988281685952,\n",
              " 0.9070347085301889,\n",
              " 0.882630854506901,\n",
              " 0.8738142182210487,\n",
              " 0.906521334771772,\n",
              " 0.9142889029425991,\n",
              " 0.9428964696253861,\n",
              " 0.9263792269632829,\n",
              " 1.0000000000000002,\n",
              " 0.9839291693017373,\n",
              " 0.9672259216547006,\n",
              " 0.9386927569658869,\n",
              " 0.926118819984376,\n",
              " 0.9446077154867751,\n",
              " 0.9177485956623641,\n",
              " 0.9053234626687996,\n",
              " 0.9004129310665527,\n",
              " 0.8918009002641272,\n",
              " 0.8949443845095051,\n",
              " 0.876678694989026,\n",
              " 0.8627283211190062,\n",
              " 0.8822960455340205,\n",
              " 0.8673040437483728,\n",
              " 0.8585246084595068,\n",
              " 0.8524236449536851,\n",
              " 0.8567017596071576,\n",
              " 0.834939176369927,\n",
              " 0.8410773408727357,\n",
              " 0.8449090435623676,\n",
              " 0.8424165767642575,\n",
              " 0.8329303225326441,\n",
              " 0.819947174584279]"
            ]
          },
          "metadata": {},
          "execution_count": 41
        }
      ],
      "source": [
        "temp_input"
      ]
    },
    {
      "cell_type": "code",
      "execution_count": 42,
      "metadata": {
        "colab": {
          "base_uri": "https://localhost:8080/"
        },
        "id": "84OT0mRqh5mr",
        "outputId": "ee8eb160-524a-4d07-90c2-a54d91dae75c"
      },
      "outputs": [
        {
          "output_type": "stream",
          "name": "stdout",
          "text": [
            "[0.84635866]\n",
            "101\n",
            "1 day output [[0.8466174]]\n",
            "2 day output [[0.8492682]]\n",
            "3 day output [[0.85378605]]\n",
            "4 day output [[0.85957307]]\n",
            "5 day output [[0.8661678]]\n",
            "6 day output [[0.8732549]]\n",
            "7 day output [[0.8806157]]\n",
            "8 day output [[0.8880819]]\n",
            "9 day output [[0.8955059]]\n",
            "10 day output [[0.9027475]]\n",
            "11 day output [[0.90967095]]\n",
            "12 day output [[0.9161463]]\n",
            "13 day output [[0.9220526]]\n",
            "14 day output [[0.9272815]]\n",
            "15 day output [[0.93173987]]\n",
            "16 day output [[0.9353516]]\n",
            "17 day output [[0.9380601]]\n",
            "18 day output [[0.9398289]]\n",
            "19 day output [[0.94064224]]\n",
            "20 day output [[0.94050604]]\n",
            "21 day output [[0.93944705]]\n",
            "22 day output [[0.9375125]]\n",
            "23 day output [[0.9347693]]\n",
            "24 day output [[0.9313015]]\n",
            "25 day output [[0.9272092]]\n",
            "26 day output [[0.92260563]]\n",
            "27 day output [[0.9176143]]\n",
            "28 day output [[0.9123658]]\n",
            "29 day output [[0.9069946]]\n",
            "[[0.8463586568832397], [0.8466174006462097], [0.8492681980133057], [0.853786051273346], [0.8595730662345886], [0.8661677837371826], [0.8732548952102661], [0.8806157112121582], [0.8880819082260132], [0.8955059051513672], [0.9027475118637085], [0.9096709489822388], [0.9161462783813477], [0.9220526218414307], [0.9272814989089966], [0.931739866733551], [0.9353516101837158], [0.9380601048469543], [0.9398288726806641], [0.940642237663269], [0.9405060410499573], [0.9394470453262329], [0.9375125169754028], [0.9347692728042603], [0.931301474571228], [0.927209198474884], [0.9226056337356567], [0.9176142811775208], [0.9123657941818237], [0.9069945812225342]]\n"
          ]
        }
      ],
      "source": [
        "# demonstrate prediction for next 10 days\n",
        "from numpy import array\n",
        "\n",
        "lst_output=[]\n",
        "n_steps=100\n",
        "i=0\n",
        "while(i<30):\n",
        "\n",
        "    if(len(temp_input)>100):\n",
        "        #print(temp_input)\n",
        "        x_input=np.array(temp_input[1:])\n",
        "        #print(\"{} day input {}\".format(i,x_input))\n",
        "        x_input=x_input.reshape(1,-1)\n",
        "        x_input = x_input.reshape((1, n_steps, 1))\n",
        "        #print(x_input)\n",
        "        yhat = model.predict(x_input, verbose=0)\n",
        "        print(\"{} day output {}\".format(i,yhat))\n",
        "        temp_input.extend(yhat[0].tolist())\n",
        "        temp_input=temp_input[1:]\n",
        "        #print(temp_input)\n",
        "        lst_output.extend(yhat.tolist())\n",
        "        i=i+1\n",
        "    else:\n",
        "        x_input = x_input.reshape((1, n_steps,1))\n",
        "        yhat = model.predict(x_input, verbose=0)\n",
        "        print(yhat[0])\n",
        "        temp_input.extend(yhat[0].tolist())\n",
        "        print(len(temp_input))\n",
        "        lst_output.extend(yhat.tolist())\n",
        "        i=i+1\n",
        "\n",
        "\n",
        "print(lst_output)"
      ]
    },
    {
      "cell_type": "code",
      "source": [
        "predictions= scaler.inverse_transform(lst_output)"
      ],
      "metadata": {
        "id": "rN9I7Fz8uuSC"
      },
      "execution_count": 43,
      "outputs": []
    },
    {
      "cell_type": "code",
      "source": [
        "predictions"
      ],
      "metadata": {
        "colab": {
          "base_uri": "https://localhost:8080/"
        },
        "id": "WwkZADXOu5yP",
        "outputId": "d424e045-515d-468a-c27b-62b2970c9852"
      },
      "execution_count": 44,
      "outputs": [
        {
          "output_type": "execute_result",
          "data": {
            "text/plain": [
              "array([[325.47967056],\n",
              "       [325.54922347],\n",
              "       [326.26178431],\n",
              "       [327.47622844],\n",
              "       [329.03183593],\n",
              "       [330.80456195],\n",
              "       [332.70964838],\n",
              "       [334.68830933],\n",
              "       [336.69529775],\n",
              "       [338.69094236],\n",
              "       [340.63755866],\n",
              "       [342.4986478 ],\n",
              "       [344.23928109],\n",
              "       [345.82696528],\n",
              "       [347.23253972],\n",
              "       [348.43099358],\n",
              "       [349.40186633],\n",
              "       [350.12993678],\n",
              "       [350.60539927],\n",
              "       [350.82403991],\n",
              "       [350.78742889],\n",
              "       [350.50276025],\n",
              "       [349.98273969],\n",
              "       [349.24532822],\n",
              "       [348.31314938],\n",
              "       [347.21310464],\n",
              "       [345.9756204 ],\n",
              "       [344.63389492],\n",
              "       [343.22304913],\n",
              "       [341.77921338]])"
            ]
          },
          "metadata": {},
          "execution_count": 44
        }
      ]
    },
    {
      "cell_type": "code",
      "execution_count": 45,
      "metadata": {
        "id": "RrGFjj2th5mr"
      },
      "outputs": [],
      "source": [
        "day_new=np.arange(1,101)\n",
        "day_pred=np.arange(101,131)"
      ]
    },
    {
      "cell_type": "code",
      "source": [
        "print(day_pred)"
      ],
      "metadata": {
        "colab": {
          "base_uri": "https://localhost:8080/"
        },
        "id": "68ZNzOpyrkri",
        "outputId": "958137a9-4dd9-42b5-fe58-05096fdeaf1d"
      },
      "execution_count": 46,
      "outputs": [
        {
          "output_type": "stream",
          "name": "stdout",
          "text": [
            "[101 102 103 104 105 106 107 108 109 110 111 112 113 114 115 116 117 118\n",
            " 119 120 121 122 123 124 125 126 127 128 129 130]\n"
          ]
        }
      ]
    },
    {
      "cell_type": "code",
      "execution_count": 47,
      "metadata": {
        "id": "fkm2ZRIeh5mr"
      },
      "outputs": [],
      "source": [
        "import matplotlib.pyplot as plt"
      ]
    },
    {
      "cell_type": "code",
      "execution_count": 48,
      "metadata": {
        "colab": {
          "base_uri": "https://localhost:8080/"
        },
        "id": "d-miyhSeh5ms",
        "outputId": "5b161897-6657-4ddd-bb0e-ee6bc67166c6"
      },
      "outputs": [
        {
          "output_type": "execute_result",
          "data": {
            "text/plain": [
              "1256"
            ]
          },
          "metadata": {},
          "execution_count": 48
        }
      ],
      "source": [
        "len(df1)"
      ]
    },
    {
      "cell_type": "code",
      "execution_count": 49,
      "metadata": {
        "colab": {
          "base_uri": "https://localhost:8080/",
          "height": 448
        },
        "id": "vM-s-puxh5ms",
        "outputId": "da5433c0-143b-4031-9af8-0a0ab52b94b7"
      },
      "outputs": [
        {
          "output_type": "execute_result",
          "data": {
            "text/plain": [
              "[<matplotlib.lines.Line2D at 0x7d9ac13ad210>]"
            ]
          },
          "metadata": {},
          "execution_count": 49
        },
        {
          "output_type": "display_data",
          "data": {
            "text/plain": [
              "<Figure size 640x480 with 1 Axes>"
            ],
            "image/png": "[encoded data removed]"
          },
          "metadata": {}
        }
      ],
      "source": [
        "plt.plot(day_new,scaler.inverse_transform(df1[1156:]))\n",
        "plt.plot(day_pred,scaler.inverse_transform(lst_output))"
      ]
    },
    {
      "cell_type": "code",
      "execution_count": 50,
      "metadata": {
        "colab": {
          "base_uri": "https://localhost:8080/",
          "height": 448
        },
        "id": "dSvcMJHPh5ms",
        "outputId": "ab863304-521c-4616-8427-cb9812300057"
      },
      "outputs": [
        {
          "output_type": "execute_result",
          "data": {
            "text/plain": [
              "[<matplotlib.lines.Line2D at 0x7d9b2d0b0340>]"
            ]
          },
          "metadata": {},
          "execution_count": 50
        },
        {
          "output_type": "display_data",
          "data": {
            "text/plain": [
              "<Figure size 640x480 with 1 Axes>"
            ],
            "image/png": "[encoded data removed]"
          },
          "metadata": {}
        }
      ],
      "source": [
        "df3=df1.tolist()\n",
        "df3.extend(lst_output)\n",
        "plt.plot(df3[1200:])"
      ]
    },
    {
      "cell_type": "code",
      "execution_count": 51,
      "metadata": {
        "id": "oGGFSDh9h5ms"
      },
      "outputs": [],
      "source": [
        "df3=scaler.inverse_transform(df3).tolist()"
      ]
    },
    {
      "cell_type": "code",
      "execution_count": 52,
      "metadata": {
        "colab": {
          "base_uri": "https://localhost:8080/",
          "height": 448
        },
        "id": "fh1pNLPHh5ms",
        "outputId": "2cbce147-601b-4899-8269-e1ddfeede5c8"
      },
      "outputs": [
        {
          "output_type": "execute_result",
          "data": {
            "text/plain": [
              "[<matplotlib.lines.Line2D at 0x7d9ac1506560>]"
            ]
          },
          "metadata": {},
          "execution_count": 52
        },
        {
          "output_type": "display_data",
          "data": {
            "text/plain": [
              "<Figure size 640x480 with 1 Axes>"
            ],
            "image/png": "[encoded data removed]"
          },
          "metadata": {}
        }
      ],
      "source": [
        "plt.plot(df3)"
      ]
    }
  ],
  "metadata": {
    "kernelspec": {
      "display_name": "Python 3",
      "name": "python3"
    },
    "language_info": {
      "codemirror_mode": {
        "name": "ipython",
        "version": 3
      },
      "file_extension": ".py",
      "mimetype": "text/x-python",
      "name": "python",
      "nbconvert_exporter": "python",
      "pygments_lexer": "ipython3",
      "version": "3.6.9"
    },
    "colab": {
      "provenance": [],
      "gpuType": "T4"
    },
    "accelerator": "GPU"
  },
  "nbformat": 4,
  "nbformat_minor": 0
}